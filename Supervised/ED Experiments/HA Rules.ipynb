{
 "cells": [
  {
   "cell_type": "markdown",
   "metadata": {
    "id": "UAbxrR_Q1v3m"
   },
   "source": [
    "# Hierarchal Encoding with Rules"
   ]
  },
  {
   "cell_type": "code",
   "execution_count": 1,
   "metadata": {
    "id": "wZpo0DbmMOT_"
   },
   "outputs": [],
   "source": [
    "import numpy as np\n",
    "import tensorflow as tf\n",
    "\n",
    "import re \n",
    "import os\n",
    "from datetime import datetime\n",
    "\n",
    "from nltk.translate.bleu_score import sentence_bleu\n",
    "\n",
    "from tensorflow.keras.preprocessing.text import Tokenizer\n",
    "from tensorflow.keras.preprocessing.sequence import pad_sequences"
   ]
  },
  {
   "cell_type": "markdown",
   "metadata": {
    "id": "hIh8TGdFMOT_"
   },
   "source": [
    "### Declare Static Variables"
   ]
  },
  {
   "cell_type": "code",
   "execution_count": 2,
   "metadata": {
    "colab": {
     "base_uri": "https://localhost:8080/"
    },
    "id": "MLWD_vDUMUbK",
    "outputId": "1a2a00ac-16ca-4f76-acbe-855ffad790f3"
   },
   "outputs": [],
   "source": [
    "# from google.colab import drive\n",
    "# drive.mount('/content/drive')"
   ]
  },
  {
   "cell_type": "markdown",
   "metadata": {
    "id": "OiCo7jwJMOT_"
   },
   "source": [
    "These parameters are mostly stolen from the Google Paper, except for embedding dim which is determined from GloVE."
   ]
  },
  {
   "cell_type": "code",
   "execution_count": 3,
   "metadata": {
    "id": "RgjKj15QMOT_"
   },
   "outputs": [],
   "source": [
    "EMBEDDING_DIM = 200\n",
    "ATTENTION_UNITS = 512\n",
    "ENCODER_UNITS = 1024\n",
    "DECODER_UNITS = 1024\n",
    "MAX_VOCAB = 30000\n",
    "BATCH_SIZE = 64\n",
    "MAX_INPUT_LENGTH = 32"
   ]
  },
  {
   "cell_type": "markdown",
   "metadata": {
    "id": "X9sTDg2lMOT_"
   },
   "source": [
    "### Load Data"
   ]
  },
  {
   "cell_type": "code",
   "execution_count": 4,
   "metadata": {
    "id": "qzSYxc4yMOT_"
   },
   "outputs": [],
   "source": [
    "# BASE_PATH = '/content/drive/MyDrive/Data/Data'  # on local is path to directory\n",
    "BASE_PATH = '../../Data'\n",
    "\n",
    "FORMAL_PATH_TRAIN = '{}/Supervised Data/Entertainment_Music/S_Formal_EM_Train.txt'.format(BASE_PATH)\n",
    "INFORMAL_PATH_TRAIN = '{}/Supervised Data/Entertainment_Music/S_Informal_EM_Train.txt'.format(BASE_PATH)\n",
    "\n",
    "FORMAL_PATH_HOLDOUT = '{}/Supervised Data/Entertainment_Music/S_Formal_EM_ValTest.txt'.format(BASE_PATH)\n",
    "INFORMAL_PATH_HOLDOUT = '{}/Supervised Data/Entertainment_Music/S_Informal_EM_ValTest.txt'.format(BASE_PATH)\n",
    "\n",
    "CONTRACTIONS_PATH = '{}/Rule Data/Contractions.txt'.format(BASE_PATH)\n",
    "SLANG_PATH = '{}/Rule Data/Slang.txt'.format(BASE_PATH)\n",
    "SWEARS_PATH = '{}/Rule Data/Swears.csv'.format(BASE_PATH)\n",
    "\n",
    "EMBEDDING_PATH = '{}/glove.6B.200d.txt'.format(BASE_PATH)"
   ]
  },
  {
   "cell_type": "code",
   "execution_count": 5,
   "metadata": {
    "id": "x6EaDkEtMOUA"
   },
   "outputs": [],
   "source": [
    "formal = open(FORMAL_PATH_TRAIN).read()\n",
    "informal = open(INFORMAL_PATH_TRAIN).read()\n",
    "\n",
    "formal_holdout = open(FORMAL_PATH_HOLDOUT).read()\n",
    "informal_holdout = open(INFORMAL_PATH_HOLDOUT).read()"
   ]
  },
  {
   "cell_type": "code",
   "execution_count": 6,
   "metadata": {
    "id": "fenTZWMxMOUA"
   },
   "outputs": [],
   "source": [
    "def process_sequence(seq):\n",
    "    \"\"\"This inserts a space in between the last word and a period\"\"\"\n",
    "    s = re.sub('([.,!?()])', r' \\1 ', seq)\n",
    "    s = re.sub('\\s{2,}', ' ', s)\n",
    "    \n",
    "    return '<start> ' + s + ' <end>'"
   ]
  },
  {
   "cell_type": "code",
   "execution_count": 7,
   "metadata": {
    "id": "6_pLPgB0MOUA"
   },
   "outputs": [],
   "source": [
    "f_corpus = [process_sequence(seq) for seq in formal.split('\\n')]\n",
    "if_corpus = [process_sequence(seq) for seq in informal.split('\\n')]\n",
    "\n",
    "f_holdout = [process_sequence(seq) for seq in formal_holdout.split('\\n')]\n",
    "if_holdout = [process_sequence(seq) for seq in informal_holdout.split('\\n')]"
   ]
  },
  {
   "cell_type": "markdown",
   "metadata": {
    "id": "nkN39M_qck6K"
   },
   "source": [
    "### Load slang and Contractions"
   ]
  },
  {
   "cell_type": "code",
   "execution_count": 8,
   "metadata": {
    "id": "LC7iHUueck6K"
   },
   "outputs": [],
   "source": [
    "import csv\n",
    "cont = []\n",
    "cont_corr = []\n",
    "\n",
    "slang = []\n",
    "slang_corr = []\n",
    "\n",
    "swears = []\n",
    "with open(CONTRACTIONS_PATH, 'r') as f:\n",
    "    for line in csv.reader(f, dialect='excel-tab'):\n",
    "        cont.append(line[0])\n",
    "        cont_corr.append(line[1])\n",
    "        \n",
    "with open(SLANG_PATH) as f:\n",
    "    for line in csv.reader(f, dialect='excel-tab'):\n",
    "        slang.append(line[0])\n",
    "        slang_corr.append(line[1])\n",
    "        \n",
    "with open(SWEARS_PATH) as f:\n",
    "    for line in csv.reader(f):\n",
    "        swears.append(line)\n",
    "swears = swears[0]"
   ]
  },
  {
   "cell_type": "markdown",
   "metadata": {
    "id": "nJ55lZV3ck6K"
   },
   "source": [
    "### Apply Rules\n",
    "1. Capitalize the first word\n",
    "2. Lowercase words that are all upper case\n",
    "3. Expand contractions\n",
    "4. Replace Slang words\n",
    "5. Replace Swear words"
   ]
  },
  {
   "cell_type": "code",
   "execution_count": 9,
   "metadata": {
    "id": "lXTFzrX_ck6K"
   },
   "outputs": [],
   "source": [
    "def rule(seqs):\n",
    "    out = []\n",
    "    for seq in seqs:\n",
    "        curr_seq = seq.split()\n",
    "        temp = []\n",
    "        \n",
    "        for i, word in enumerate(curr_seq):\n",
    "            curr_word = word\n",
    "            \n",
    "            if i == 1:\n",
    "                curr_word = curr_word.capitalize()\n",
    "            \n",
    "            if curr_word == curr_word.upper():\n",
    "                curr_word = curr_word.lower()\n",
    "                \n",
    "            if curr_word in slang:\n",
    "                curr_word = slang_corr[slang.index(curr_word)]\n",
    "                \n",
    "            if curr_word in swears:\n",
    "                curr_word = curr_word[0] + '*' * (len(curr_word) - 2)\n",
    "            \n",
    "            temp.append(curr_word)\n",
    "                \n",
    "        out.append(' '.join(temp))  \n",
    "    return out"
   ]
  },
  {
   "cell_type": "code",
   "execution_count": 10,
   "metadata": {
    "id": "gCrQj9dxck6K"
   },
   "outputs": [],
   "source": [
    "x_prime_raw = rule(if_corpus)\n",
    "x_prime_holdout = rule(if_holdout)"
   ]
  },
  {
   "cell_type": "markdown",
   "metadata": {
    "id": "Xuet6JWVMOUA"
   },
   "source": [
    "### Preprocess data"
   ]
  },
  {
   "cell_type": "code",
   "execution_count": 11,
   "metadata": {
    "id": "czog7VXRMOUA"
   },
   "outputs": [],
   "source": [
    "def tokenize(corpus, tokenizer=None, maxlen=None):\n",
    "    \"\"\" Tokenize data and pad sequences \"\"\"\n",
    "    if not tokenizer: \n",
    "        tokenizer = Tokenizer(filters='!\"#$%&()*+,-./:;=?@[\\\\]^_`{|}~\\t\\n', \n",
    "                              oov_token='<OOV>', lower=True)\n",
    "        tokenizer.fit_on_texts(corpus)\n",
    "    \n",
    "    seqs = tokenizer.texts_to_sequences(corpus)\n",
    "    padded_seqs = pad_sequences(seqs, padding='post', maxlen=maxlen)\n",
    "\n",
    "    return padded_seqs, tokenizer"
   ]
  },
  {
   "cell_type": "code",
   "execution_count": 12,
   "metadata": {
    "id": "D8gCiXWAMOUA"
   },
   "outputs": [],
   "source": [
    "input_train, input_tokenizer = tokenize(if_corpus)\n",
    "input_prime, _ = tokenize(x_prime_raw, input_tokenizer)\n",
    "target_train, target_tokenizer = tokenize(f_corpus)"
   ]
  },
  {
   "cell_type": "code",
   "execution_count": 13,
   "metadata": {
    "id": "ROQQKO8uMOUA"
   },
   "outputs": [],
   "source": [
    "input_test, _ = tokenize(if_holdout, input_tokenizer)\n",
    "prime_test, _ = tokenize(x_prime_holdout, input_tokenizer)\n",
    "target_test, _ = tokenize(f_holdout, target_tokenizer)"
   ]
  },
  {
   "cell_type": "code",
   "execution_count": 14,
   "metadata": {
    "id": "MJpBO_F9MOUA"
   },
   "outputs": [],
   "source": [
    "buffer_size = len(input_train)\n",
    "steps_per_epoch = len(input_train) // BATCH_SIZE\n",
    "input_vocab_size = len(input_tokenizer.word_index) + 1\n",
    "target_vocab_size = len(target_tokenizer.word_index) + 1\n",
    "\n",
    "train = tf.data.Dataset.from_tensor_slices((input_train, input_prime, target_train)).shuffle(buffer_size)\n",
    "train = train.batch(BATCH_SIZE, drop_remainder=True)\n",
    "\n",
    "test = tf.data.Dataset.from_tensor_slices((input_test, prime_test, target_test)).batch(1)"
   ]
  },
  {
   "cell_type": "code",
   "execution_count": 15,
   "metadata": {
    "id": "Ua_l1fZEMOUA"
   },
   "outputs": [],
   "source": [
    "example_input_batch, example_prime_batch, example_target_batch = next(iter(train))"
   ]
  },
  {
   "cell_type": "markdown",
   "metadata": {
    "id": "oSCRTB5PjmvD"
   },
   "source": [
    "# Setup Embedding Weights"
   ]
  },
  {
   "cell_type": "code",
   "execution_count": 16,
   "metadata": {
    "id": "Enju-_z_p9u7"
   },
   "outputs": [],
   "source": [
    "def embedding_matrix(tokenizer, vocab_size, embedding_dim):\n",
    "    embeddings_index = {}\n",
    "    with open(EMBEDDING_PATH) as f:\n",
    "        for line in f:\n",
    "            values = line.split()\n",
    "            word = values[0]\n",
    "            coefs = np.asarray(values[1:], dtype='float32')\n",
    "            embeddings_index[word] = coefs\n",
    "\n",
    "    embeddings_matrix = np.zeros((vocab_size, embedding_dim))\n",
    "    for word, i in tokenizer.word_index.items():\n",
    "        embedding_vector = embeddings_index.get(word)\n",
    "        if embedding_vector is not None:\n",
    "            embeddings_matrix[i] = embedding_vector\n",
    "\n",
    "    return embeddings_matrix"
   ]
  },
  {
   "cell_type": "code",
   "execution_count": 17,
   "metadata": {
    "id": "ovQqc3ibqVj6"
   },
   "outputs": [],
   "source": [
    "enc_E_mat = embedding_matrix(input_tokenizer, input_vocab_size, EMBEDDING_DIM)"
   ]
  },
  {
   "cell_type": "markdown",
   "metadata": {
    "id": "1pv7RI8NMOUA"
   },
   "source": [
    "### Encoder"
   ]
  },
  {
   "cell_type": "markdown",
   "metadata": {
    "id": "1dVMrge8kBd3"
   },
   "source": [
    "Using one bidirectional LSTMs because that was reported to get almost as good performance as 2 LSTMs"
   ]
  },
  {
   "cell_type": "code",
   "execution_count": 18,
   "metadata": {
    "id": "SiW3IKWKMOUA"
   },
   "outputs": [],
   "source": [
    "class Encoder(tf.keras.Model):\n",
    "    def __init__(self, vocab_size, embedding_dim, encoder_units, weight_matrix):\n",
    "        super(Encoder, self).__init__()\n",
    "        self.embedding = tf.keras.layers.Embedding(vocab_size, \n",
    "                                                   embedding_dim,\n",
    "                                                   weights=[weight_matrix])\n",
    "        self.lstm_1 = tf.keras.layers.Bidirectional(\n",
    "            tf.keras.layers.LSTM(\n",
    "                encoder_units,\n",
    "                return_sequences=True,\n",
    "                return_state=True,\n",
    "                kernel_regularizer=tf.keras.regularizers.l2(0.01),\n",
    "                recurrent_regularizer=tf.keras.regularizers.l2(0.01),\n",
    "                bias_regularizer=tf.keras.regularizers.l2(0.01)\n",
    "            )\n",
    "        )\n",
    "\n",
    "    def call(self, x, hidden_state):\n",
    "        \"\"\"Shove into latent space\"\"\"\n",
    "        # x shape: (batch_size x max_length x embedding_dim)\n",
    "        x = self.embedding(x)\n",
    "\n",
    "        # output shape: (batch_size x max_length x 2 * encoder_units)\n",
    "        # h_f, h_b shapes: (batch_size x encoder_units)\n",
    "        output, h_f, _, h_b, _ = self.lstm_1(x, initial_state=hidden_state)\n",
    "\n",
    "        return output, h_f, h_b"
   ]
  },
  {
   "cell_type": "code",
   "execution_count": 19,
   "metadata": {
    "id": "TWA8hQqD1v3n"
   },
   "outputs": [],
   "source": [
    "encoder = Encoder(input_vocab_size, EMBEDDING_DIM, ENCODER_UNITS, enc_E_mat)\n",
    "\n",
    "encoder_prime = Encoder(input_vocab_size, EMBEDDING_DIM, ENCODER_UNITS, enc_E_mat)\n",
    "\n",
    "init_state = [tf.zeros((BATCH_SIZE, ENCODER_UNITS)) for _ in range(4)]\n",
    "\n",
    "sample_output, enc_hidden_forward, enc_hidden_backward = encoder(example_input_batch, init_state)\n",
    "prime_output, prime_hidden_forward, prime_hidden_backward = encoder_prime(example_prime_batch, init_state)"
   ]
  },
  {
   "cell_type": "markdown",
   "metadata": {
    "id": "HDWvnXwd-pQy"
   },
   "source": [
    "## Combined Encoders"
   ]
  },
  {
   "cell_type": "markdown",
   "metadata": {
    "id": "Zc0BAr9pMOUA"
   },
   "source": [
    "### Attention Layer"
   ]
  },
  {
   "cell_type": "code",
   "execution_count": 21,
   "metadata": {
    "id": "NP5YEjIOMOUA"
   },
   "outputs": [],
   "source": [
    "class BahdanauAttention(tf.keras.layers.Layer):\n",
    "    \"\"\"\n",
    "    This is different form the Luong paper since it \n",
    "    concatenates the forward and backward hidden states\n",
    "    to caculate attention\n",
    "    \"\"\"\n",
    "    def __init__(self, units):\n",
    "        \"\"\"These parameters follow notation from Bahdanau paper\"\"\"\n",
    "        super(BahdanauAttention, self).__init__()\n",
    "        self.W = tf.keras.layers.Dense(units)\n",
    "        self.U = tf.keras.layers.Dense(units)\n",
    "        self.v = tf.keras.layers.Dense(1)\n",
    "\n",
    "    def call(self, enc_opt, hidden_f, hidden_b):\n",
    "        # concatenate hidden states as in eq 7 Bahdanau\n",
    "        # hidden shape: (batch_size, 2 * lstm_units)\n",
    "        hidden = tf.concat([hidden_f, hidden_b], axis=-1)\n",
    "\n",
    "        # expand dims to meet shape of latent tensor\n",
    "        # hidden_broad shape: (batch_size, 1, encoder_units * 2)\n",
    "        hidden_broad = tf.expand_dims(hidden, 1)\n",
    "\n",
    "        # Alignment model score from A.1.2 of Bahdanau et al \n",
    "        # score shape: (batch_size, max_length, v_units)\n",
    "        score = self.v(tf.nn.tanh(self.W(hidden_broad) + self.U(enc_opt)))\n",
    "\n",
    "        # softmax generalization of eq(7) Luong\n",
    "        # attention_weights shape: (batch_size, max_length, 1)\n",
    "        attention_weights = tf.nn.softmax(score, axis=1)  \n",
    "\n",
    "        # This takes weighted average with attention weights\n",
    "        # context shape: (batch_size, 2 * encoder_units)\n",
    "        context = attention_weights * enc_opt\n",
    "        context = tf.reduce_sum(context, axis=1)\n",
    "\n",
    "        return context"
   ]
  },
  {
   "cell_type": "markdown",
   "metadata": {
    "id": "RBwfe07qMOUA"
   },
   "source": [
    "### Decoder"
   ]
  },
  {
   "cell_type": "code",
   "execution_count": 22,
   "metadata": {
    "id": "3-RvXiF1MOUA"
   },
   "outputs": [],
   "source": [
    "class Decoder(tf.keras.Model):\n",
    "    def __init__(self, vocab_size, embedding_dim, attention_units, \n",
    "                 decoder_units):\n",
    "        super(Decoder, self).__init__()\n",
    "\n",
    "        self.attention = BahdanauAttention(attention_units)\n",
    "        self.embedding = tf.keras.layers.Embedding(vocab_size, embedding_dim)\n",
    "        self.lstm_1 = tf.keras.layers.LSTM(decoder_units,\n",
    "                                           return_sequences=True,\n",
    "                                           return_state=True)\n",
    "        self.flatten = tf.keras.layers.Flatten()\n",
    "        self.opt = tf.keras.layers.Dense(vocab_size)\n",
    "\n",
    "    def call(self, x, hidden_f, hidden_b, encoder_output):\n",
    "        context_vector = self.attention(encoder_output, hidden_f, hidden_b)\n",
    "\n",
    "        # x shape: (batch_size, 1, embedding_dim)\n",
    "        x = self.embedding(x)\n",
    "\n",
    "        # x shape: (batch_size, 1, embedding_dim + 2 * encoder_units)\n",
    "        x = tf.concat([tf.expand_dims(context_vector, 1), x], axis=-1)\n",
    "\n",
    "        # output shape: (batch_size, 1, decoder_units)\n",
    "        # this shape is only important for expanding decoder depth\n",
    "        output, h_f, c_f = self.lstm_1(x)\n",
    "\n",
    "        # flatten to feed into opt\n",
    "        # output shape: (batch_size, hidden_size)\n",
    "        output = self.flatten(output)\n",
    "\n",
    "        # get logits\n",
    "        # x shape: (batch_size, vocab)\n",
    "        x = self.opt(output)\n",
    "\n",
    "        return x, h_f"
   ]
  },
  {
   "cell_type": "code",
   "execution_count": 23,
   "metadata": {
    "id": "vHUOKBZj1v3n"
   },
   "outputs": [],
   "source": [
    "seq_decoder = Decoder(target_vocab_size, EMBEDDING_DIM, ATTENTION_UNITS, DECODER_UNITS)\n",
    "prime_decoder = Decoder(target_vocab_size, EMBEDDING_DIM, ATTENTION_UNITS, DECODER_UNITS)\n",
    "\n",
    "sample_decoder_input = tf.expand_dims([target_tokenizer.word_index['<start>']] * BATCH_SIZE, 1)\n",
    "\n",
    "dec_hidden_forward = tf.zeros((64, ENCODER_UNITS))\n",
    "\n",
    "seq_decoder_out, seq_decoder_hidden = seq_decoder(sample_decoder_input, enc_hidden_forward, \n",
    "                                                  enc_hidden_backward, sample_output)\n",
    "prime_decoder_out, prime_decoder_hidden = prime_decoder(sample_decoder_input, prime_hidden_forward, \n",
    "                                                        prime_hidden_backward, prime_output)"
   ]
  },
  {
   "cell_type": "markdown",
   "metadata": {
    "id": "PjwpAaWZ1v3n"
   },
   "source": [
    "## Ensemble Model"
   ]
  },
  {
   "cell_type": "code",
   "execution_count": 24,
   "metadata": {
    "id": "MwcAlJ8Q1v3n"
   },
   "outputs": [],
   "source": [
    "class CombinedDecoders(tf.keras.Model): \n",
    "    def __init__(self, input_vocab_size, target_vocab_size, embedding_dim,  \n",
    "                 attention_units, encoder_units, decoder_units, embedding_weights): \n",
    "        super(CombinedDecoders, self).__init__()\n",
    "        \n",
    "        # declare decoders\n",
    "        self.seq_decoder = Decoder(target_vocab_size, embedding_dim, attention_units, decoder_units)\n",
    "        self.prime_decoder = Decoder(target_vocab_size, embedding_dim, attention_units, decoder_units)\n",
    "        \n",
    "        # create weights\n",
    "        self.W = tf.keras.layers.Dense(target_vocab_size)\n",
    "        \n",
    "    def call(self, dec_input, seq_enc_out, seq_enc_forward, seq_enc_backward,\n",
    "             prime_enc_out, prime_enc_forward, prime_enc_backward):\n",
    "        \n",
    "        seq_decoder_out, seq_decoder_forward = self.seq_decoder(dec_input, seq_enc_forward,\n",
    "                                                               seq_enc_backward, seq_enc_out)\n",
    "        prime_decoder_out, prime_decoder_forward = self.prime_decoder(dec_input, prime_enc_forward, \n",
    "                                                                     prime_enc_backward, prime_enc_out)\n",
    "        \n",
    "        # Now do Hierarchal attention\n",
    "        # adaptation of eq (3) form Wang et al.\n",
    "        \n",
    "        return (seq_decoder_out + prime_decoder_out) / 2 , seq_decoder_forward, prime_decoder_forward"
   ]
  },
  {
   "cell_type": "code",
   "execution_count": 25,
   "metadata": {
    "id": "9r-mcXOu1v3n"
   },
   "outputs": [],
   "source": [
    "ha_decoder = CombinedDecoders(input_vocab_size, target_vocab_size, EMBEDDING_DIM,\n",
    "                              ATTENTION_UNITS, ENCODER_UNITS, DECODER_UNITS, enc_E_mat)\n",
    "\n",
    "sample_decoder_input = tf.expand_dims([target_tokenizer.word_index['<start>']] * BATCH_SIZE, 1)\n",
    "\n",
    "dec_hidden_forward = tf.zeros((64, ENCODER_UNITS))\n",
    "\n",
    "seq_decoder_out, seq_decoder_hidden = seq_decoder(sample_decoder_input, enc_hidden_forward, \n",
    "                                                  enc_hidden_backward, sample_output)\n",
    "prime_decoder_out, prime_decoder_hidden = prime_decoder(sample_decoder_input, prime_hidden_forward, \n",
    "                                                        prime_hidden_backward, prime_output)\n",
    "\n",
    "sample_prediciton, seq_dec_foward, prime_dec_forward = ha_decoder(sample_decoder_input, sample_output,\n",
    "                                                                  enc_hidden_forward, enc_hidden_backward, \n",
    "                                                                  prime_output, prime_hidden_forward, \n",
    "                                                                  prime_hidden_backward)"
   ]
  },
  {
   "cell_type": "markdown",
   "metadata": {
    "id": "M0P04Qa_MOUA"
   },
   "source": [
    "### Optimizer and Loss Function"
   ]
  },
  {
   "cell_type": "markdown",
   "metadata": {
    "id": "unPfCctsMOUA"
   },
   "source": [
    "Here we define the optimizer and the loss function. In our loss function we mask the zeros since that's the padding.\n",
    "\n",
    "Also of note is in the loss function. The reduction argument at default does some really wonky things which threw off all results. Had to change the reduciton to none, which at default is auto. Not exactly sure what it does in this context but it tries to sum over batches. I didn't work with it because I wanted to control all loss calculation manually. "
   ]
  },
  {
   "cell_type": "code",
   "execution_count": 26,
   "metadata": {
    "id": "kis6sBiBMOUA"
   },
   "outputs": [],
   "source": [
    "optimizer = tf.keras.optimizers.Adam()\n",
    "static_loss = tf.keras.losses.SparseCategoricalCrossentropy(\n",
    "    from_logits=True, reduction='none')"
   ]
  },
  {
   "cell_type": "code",
   "execution_count": 27,
   "metadata": {
    "id": "vnIepemQMOUA"
   },
   "outputs": [],
   "source": [
    "def loss_function(real, preds):\n",
    "    \"\"\"Calculate and return loss\"\"\"\n",
    "\n",
    "    # caclulate loss\n",
    "    loss = static_loss(real, preds)\n",
    "    \n",
    "    # create padding mask \n",
    "    mask = tf.math.logical_not(tf.math.equal(real, 0))\n",
    "    mask = tf.cast(mask, dtype=loss.dtype)\n",
    "    \n",
    "    # apply mask\n",
    "    loss *= mask\n",
    "\n",
    "    return tf.reduce_mean(loss)"
   ]
  },
  {
   "cell_type": "markdown",
   "metadata": {
    "id": "_lzJ5Y0gMOUB"
   },
   "source": [
    "### Training"
   ]
  },
  {
   "cell_type": "markdown",
   "metadata": {
    "id": "eOLvx7ygrMtv"
   },
   "source": [
    "This is the training loop. I'm using teacher forcing because I don't think I have enough computational power to use beam search. Google reccomends beam search with a beam width of 10, but that isn't an option here. Teacher forcing will provide better results than without using it. "
   ]
  },
  {
   "cell_type": "code",
   "execution_count": 28,
   "metadata": {
    "id": "TV21GU90MOUB"
   },
   "outputs": [],
   "source": [
    "@tf.function\n",
    "def train_step(inpt, prime, trgt, init_state):\n",
    "    loss = 0\n",
    "\n",
    "    with tf.GradientTape() as tape:\n",
    "        seq_enc_out, seq_enc_forward, seq_enc_backward = seq_encoder(inpt, hidden_state=init_state)\n",
    "        prime_enc_out, prime_enc_forward, prime_enc_backward = prime_encoder(prime, hidden_state=init_state)\n",
    "\n",
    "        # Get start token for every sequence in batch\n",
    "        dec_input = tf.expand_dims([target_tokenizer.word_index['<start>']] * BATCH_SIZE, 1)\n",
    "        \n",
    "        # initialize decoder hidden forward states\n",
    "        seq_dec_forward = seq_enc_forward\n",
    "        prime_dec_forward = prime_enc_forward\n",
    "        \n",
    "        for i in range(1, trgt.shape[1]):\n",
    "            # dec_hidden shape: (batch_size, decoder_units)\n",
    "            # dec_input shape: (batch_size, 1)\n",
    "            prediction, seq_dec_foward, prime_dec_forward = ha_decoder(dec_input, \n",
    "                                                                       seq_enc_out,\n",
    "                                                                       seq_dec_forward, \n",
    "                                                                       enc_hidden_backward, \n",
    "                                                                       prime_output, \n",
    "                                                                       prime_enc_forward, \n",
    "                                                                       prime_hidden_backward)\n",
    "\n",
    "            loss += loss_function(trgt[:, i], prediction)\n",
    "            dec_input = tf.expand_dims(trgt[:, i], 1)\n",
    "\n",
    "        # Apply gradients \n",
    "        trainable_variables = prime_encoder.trainable_variables + seq_encoder.trainable_variables  + ha_decoder.trainable_variables\n",
    "        gradients = tape.gradient(loss, trainable_variables)\n",
    "        optimizer.apply_gradients(zip(gradients, trainable_variables))\n",
    "\n",
    "        # return batch loss\n",
    "        return loss"
   ]
  },
  {
   "cell_type": "code",
   "execution_count": 1,
   "metadata": {
    "colab": {
     "base_uri": "https://localhost:8080/",
     "height": 1000
    },
    "id": "iXRvBFyOMOUB",
    "outputId": "f7ef5295-47d9-4cc9-e809-3a57b02f2ced"
   },
   "outputs": [
    {
     "ename": "NameError",
     "evalue": "name 'Encoder' is not defined",
     "output_type": "error",
     "traceback": [
      "\u001b[0;31m---------------------------------------------------------------------------\u001b[0m",
      "\u001b[0;31mNameError\u001b[0m                                 Traceback (most recent call last)",
      "\u001b[0;32m<ipython-input-1-7397d6abe69d>\u001b[0m in \u001b[0;36m<module>\u001b[0;34m\u001b[0m\n\u001b[1;32m      1\u001b[0m \u001b[0mEPOCHS\u001b[0m \u001b[0;34m=\u001b[0m \u001b[0;36m20\u001b[0m\u001b[0;34m\u001b[0m\u001b[0;34m\u001b[0m\u001b[0m\n\u001b[1;32m      2\u001b[0m \u001b[0;34m\u001b[0m\u001b[0m\n\u001b[0;32m----> 3\u001b[0;31m \u001b[0mseq_encoder\u001b[0m \u001b[0;34m=\u001b[0m \u001b[0mEncoder\u001b[0m\u001b[0;34m(\u001b[0m\u001b[0minput_vocab_size\u001b[0m\u001b[0;34m,\u001b[0m \u001b[0mEMBEDDING_DIM\u001b[0m\u001b[0;34m,\u001b[0m \u001b[0mENCODER_UNITS\u001b[0m\u001b[0;34m,\u001b[0m \u001b[0menc_E_mat\u001b[0m\u001b[0;34m)\u001b[0m\u001b[0;34m\u001b[0m\u001b[0;34m\u001b[0m\u001b[0m\n\u001b[0m\u001b[1;32m      4\u001b[0m \u001b[0mprime_encoder\u001b[0m \u001b[0;34m=\u001b[0m \u001b[0mEncoder\u001b[0m\u001b[0;34m(\u001b[0m\u001b[0minput_vocab_size\u001b[0m\u001b[0;34m,\u001b[0m \u001b[0mEMBEDDING_DIM\u001b[0m\u001b[0;34m,\u001b[0m \u001b[0mENCODER_UNITS\u001b[0m\u001b[0;34m,\u001b[0m \u001b[0menc_E_mat\u001b[0m\u001b[0;34m)\u001b[0m\u001b[0;34m\u001b[0m\u001b[0;34m\u001b[0m\u001b[0m\n\u001b[1;32m      5\u001b[0m ha_decoder = CombinedDecoders(input_vocab_size, target_vocab_size, EMBEDDING_DIM,\n",
      "\u001b[0;31mNameError\u001b[0m: name 'Encoder' is not defined"
     ]
    }
   ],
   "source": [
    "EPOCHS = 20\n",
    "\n",
    "seq_encoder = Encoder(input_vocab_size, EMBEDDING_DIM, ENCODER_UNITS, enc_E_mat)\n",
    "prime_encoder = Encoder(input_vocab_size, EMBEDDING_DIM, ENCODER_UNITS, enc_E_mat)\n",
    "ha_decoder = CombinedDecoders(input_vocab_size, target_vocab_size, EMBEDDING_DIM,\n",
    "                              ATTENTION_UNITS, ENCODER_UNITS, DECODER_UNITS, enc_E_mat)\n",
    "\n",
    "for epoch in range(EPOCHS):\n",
    "    start = datetime.now()\n",
    "\n",
    "    total_loss = 0\n",
    "\n",
    "    # This resets the hidden state of the LSTM for every epoch\n",
    "    init_state = [tf.zeros((BATCH_SIZE, ENCODER_UNITS)) for _ in range(4)]\n",
    "\n",
    "    for inpt, prime, trgt in train.take(steps_per_epoch):\n",
    "        total_loss += train_step(inpt, prime, trgt, init_state)\n",
    "\n",
    "    print('Epoch {} Loss {:.4f}'.format(epoch + 1,\n",
    "                                        total_loss / BATCH_SIZE))\n",
    "    print('Time taken {}\\n'.format(datetime.now() - start))"
   ]
  },
  {
   "cell_type": "code",
   "execution_count": null,
   "metadata": {
    "id": "uEr2AFkJMOUB"
   },
   "outputs": [],
   "source": [
    "def evaluate(data):\n",
    "    loss = 0\n",
    "    results = []\n",
    "    bleu = 0\n",
    "\n",
    "    for i, (x, y) in enumerate(data):\n",
    "\n",
    "        result = '<start> '\n",
    "        next_word = True\n",
    "\n",
    "        init_state = [tf.zeros((1, ENCODER_UNITS)) for _ in range(4)]\n",
    "\n",
    "        # This feeds in the start token for the first initial state\n",
    "        dec_input = tf.expand_dims([target_tokenizer.word_index['<start>']], 0)\n",
    "        \n",
    "        # Get inputs\n",
    "        enc_output, dec_hidden_forward, dec_hidden_backward = encoder(x, None)\n",
    "\n",
    "        i = 1  # iterative count\n",
    "        while next_word: \n",
    "            # dec_hidden shape: (batch_size, decoder_units)\n",
    "            # dec_input shape: (batch_size, 1)\n",
    "            predictions, dec_hidden_forward, _ = decoder(dec_input, \n",
    "                                                         dec_hidden_forward, \n",
    "                                                         dec_hidden_backward, \n",
    "                                                         enc_output)\n",
    "\n",
    "            loss += loss_function(y[:, i], predictions)\n",
    "            \n",
    "            # max logit for tokenized word\n",
    "            word_idx = tf.argmax(predictions[0]).numpy()\n",
    "            word = target_tokenizer.index_word[word_idx]\n",
    "            result += word + ' '\n",
    "\n",
    "            dec_input = tf.expand_dims([word_idx], 0)\n",
    "\n",
    "            if word == '<end>':\n",
    "                next_word = False\n",
    "            \n",
    "            if i >= y.shape[1] - 1:\n",
    "                result += '<end>'\n",
    "                next_word = False\n",
    "            \n",
    "            i += 1\n",
    "\n",
    "        results.append(result)\n",
    "\n",
    "    return results, loss.numpy() / len(f_holdout)"
   ]
  },
  {
   "cell_type": "code",
   "execution_count": null,
   "metadata": {
    "id": "vft0SHsNEBNk"
   },
   "outputs": [],
   "source": [
    "results, test_loss = evaluate(test)"
   ]
  },
  {
   "cell_type": "code",
   "execution_count": null,
   "metadata": {
    "id": "_RXdV1DNZqAj"
   },
   "outputs": [],
   "source": [
    "def examine(index):\n",
    "    print(\"Informal: \", if_holdout[index])\n",
    "    print(\"Formal: \", f_holdout[index])\n",
    "    print(\"Predicted: \", results[index])"
   ]
  },
  {
   "cell_type": "code",
   "execution_count": null,
   "metadata": {
    "id": "aNS9wCEOaOmH"
   },
   "outputs": [],
   "source": [
    "examine(1999)"
   ]
  },
  {
   "cell_type": "code",
   "execution_count": null,
   "metadata": {
    "id": "DmPUxI3MPl1J"
   },
   "outputs": [],
   "source": [
    "with open(BASE_PATH + '/Results/Bahdanau_Attention_Results_Custom.txt', 'w') as f:\n",
    "    for seq in results:\n",
    "        f.write(seq + '\\n')"
   ]
  }
 ],
 "metadata": {
  "accelerator": "GPU",
  "colab": {
   "machine_shape": "hm",
   "name": "HA Rules.ipynb",
   "provenance": []
  },
  "kernelspec": {
   "display_name": "Python 3",
   "language": "python",
   "name": "python3"
  },
  "language_info": {
   "codemirror_mode": {
    "name": "ipython",
    "version": 3
   },
   "file_extension": ".py",
   "mimetype": "text/x-python",
   "name": "python",
   "nbconvert_exporter": "python",
   "pygments_lexer": "ipython3",
   "version": "3.6.9"
  }
 },
 "nbformat": 4,
 "nbformat_minor": 4
}
