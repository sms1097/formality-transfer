{
 "cells": [
  {
   "cell_type": "markdown",
   "metadata": {
    "id": "-WZnAymJMOT-"
   },
   "source": [
    "# Vanilla Encoder-Decoder\n",
    "This is a basic encoder decoder model with no attention"
   ]
  },
  {
   "cell_type": "code",
   "execution_count": 1,
   "metadata": {
    "id": "wZpo0DbmMOT_"
   },
   "outputs": [],
   "source": [
    "import numpy as np\n",
    "import seaborn as sns\n",
    "import tensorflow as tf\n",
    "\n",
    "import re \n",
    "import os\n",
    "from datetime import datetime\n",
    "\n",
    "from nltk.translate.bleu_score import sentence_bleu\n",
    "\n",
    "from tensorflow.keras.preprocessing.text import Tokenizer\n",
    "from tensorflow.keras.preprocessing.sequence import pad_sequences"
   ]
  },
  {
   "cell_type": "code",
   "execution_count": 2,
   "metadata": {
    "id": "_-KbHTO_pxIE"
   },
   "outputs": [],
   "source": [
    "import warnings\n",
    "warnings.filterwarnings('ignore')"
   ]
  },
  {
   "cell_type": "markdown",
   "metadata": {
    "id": "hIh8TGdFMOT_"
   },
   "source": [
    "### Declare Static Variables"
   ]
  },
  {
   "cell_type": "code",
   "execution_count": 3,
   "metadata": {
    "colab": {
     "base_uri": "https://localhost:8080/"
    },
    "id": "MLWD_vDUMUbK",
    "outputId": "d0e388c1-fbfe-4027-e285-b87c152644a4"
   },
   "outputs": [
    {
     "ename": "ModuleNotFoundError",
     "evalue": "No module named 'google.colab'",
     "output_type": "error",
     "traceback": [
      "\u001b[0;31m---------------------------------------------------------------------------\u001b[0m",
      "\u001b[0;31mModuleNotFoundError\u001b[0m                       Traceback (most recent call last)",
      "\u001b[0;32m<ipython-input-3-d5df0069828e>\u001b[0m in \u001b[0;36m<module>\u001b[0;34m\u001b[0m\n\u001b[0;32m----> 1\u001b[0;31m \u001b[0;32mfrom\u001b[0m \u001b[0mgoogle\u001b[0m\u001b[0;34m.\u001b[0m\u001b[0mcolab\u001b[0m \u001b[0;32mimport\u001b[0m \u001b[0mdrive\u001b[0m\u001b[0;34m\u001b[0m\u001b[0;34m\u001b[0m\u001b[0m\n\u001b[0m\u001b[1;32m      2\u001b[0m \u001b[0mdrive\u001b[0m\u001b[0;34m.\u001b[0m\u001b[0mmount\u001b[0m\u001b[0;34m(\u001b[0m\u001b[0;34m'/content/drive'\u001b[0m\u001b[0;34m)\u001b[0m\u001b[0;34m\u001b[0m\u001b[0;34m\u001b[0m\u001b[0m\n",
      "\u001b[0;31mModuleNotFoundError\u001b[0m: No module named 'google.colab'"
     ]
    }
   ],
   "source": [
    "from google.colab import drive\n",
    "drive.mount('/content/drive')"
   ]
  },
  {
   "cell_type": "markdown",
   "metadata": {
    "id": "OiCo7jwJMOT_"
   },
   "source": [
    "These parameters are mostly stolen from the Google Paper, except for embedding dim which is determined from GloVE."
   ]
  },
  {
   "cell_type": "code",
   "execution_count": 4,
   "metadata": {
    "id": "RgjKj15QMOT_"
   },
   "outputs": [],
   "source": [
    "EMBEDDING_DIM = 200\n",
    "ENCODER_UNITS = 1024\n",
    "DECODER_UNITS = 1024\n",
    "BATCH_SIZE = 64"
   ]
  },
  {
   "cell_type": "markdown",
   "metadata": {
    "id": "X9sTDg2lMOT_"
   },
   "source": [
    "### Load Data"
   ]
  },
  {
   "cell_type": "code",
   "execution_count": 5,
   "metadata": {
    "id": "qzSYxc4yMOT_"
   },
   "outputs": [],
   "source": [
    "# BASE_PATH = '/content/drive/MyDrive/Data/Data'  # on local is path to directory\n",
    "BASE_PATH = '../../Data'\n",
    "\n",
    "FORMAL_PATH_TRAIN = '{}/Supervised Data/Entertainment_Music/S_Formal_EM_Train.txt'.format(BASE_PATH)\n",
    "INFORMAL_PATH_TRAIN = '{}/Supervised Data/Entertainment_Music/S_Informal_EM_Train.txt'.format(BASE_PATH)\n",
    "\n",
    "FORMAL_PATH_HOLDOUT = '{}/Supervised Data/Entertainment_Music/S_Formal_EM_ValTest.txt'.format(BASE_PATH)\n",
    "INFORMAL_PATH_HOLDOUT = '{}/Supervised Data/Entertainment_Music/S_Informal_EM_ValTest.txt'.format(BASE_PATH)\n",
    "\n",
    "EMBEDDING_PATH = '{}/glove.6B.200d.txt'.format(BASE_PATH)"
   ]
  },
  {
   "cell_type": "code",
   "execution_count": 6,
   "metadata": {
    "id": "x6EaDkEtMOUA"
   },
   "outputs": [],
   "source": [
    "formal = open(FORMAL_PATH_TRAIN).read()\n",
    "informal = open(INFORMAL_PATH_TRAIN).read()\n",
    "\n",
    "formal_holdout = open(FORMAL_PATH_HOLDOUT).read()\n",
    "informal_holdout = open(INFORMAL_PATH_HOLDOUT).read()"
   ]
  },
  {
   "cell_type": "code",
   "execution_count": 7,
   "metadata": {
    "id": "fenTZWMxMOUA"
   },
   "outputs": [],
   "source": [
    "def process_sequence(seq):\n",
    "    \"\"\"This inserts a space in between the last word and a period\"\"\"\n",
    "    s = re.sub('([.,!?()])', r' \\1 ', seq)\n",
    "    s = re.sub('\\s{2,}', ' ', s)\n",
    "    \n",
    "    return '<start> ' + s + ' <end>'"
   ]
  },
  {
   "cell_type": "code",
   "execution_count": 8,
   "metadata": {
    "id": "6_pLPgB0MOUA"
   },
   "outputs": [],
   "source": [
    "f_corpus = [process_sequence(seq) for seq in formal.split('\\n')]\n",
    "if_corpus = [process_sequence(seq) for seq in informal.split('\\n')]\n",
    "\n",
    "f_holdout = [process_sequence(seq) for seq in formal_holdout.split('\\n')]\n",
    "if_holdout = [process_sequence(seq) for seq in informal_holdout.split('\\n')]"
   ]
  },
  {
   "cell_type": "markdown",
   "metadata": {
    "id": "Xuet6JWVMOUA"
   },
   "source": [
    "### Preprocess data"
   ]
  },
  {
   "cell_type": "code",
   "execution_count": 9,
   "metadata": {
    "id": "czog7VXRMOUA"
   },
   "outputs": [],
   "source": [
    "def tokenize(corpus, tokenizer=None, maxlen=None):\n",
    "    \"\"\" Tokenize data and pad sequences \"\"\"\n",
    "    if not tokenizer: \n",
    "        tokenizer = Tokenizer(filters='!\"#$%&()*+,-./:;=?@[\\\\]^_`{|}~\\t\\n', \n",
    "                              oov_token='<OOV>')\n",
    "        tokenizer.fit_on_texts(corpus)\n",
    "    \n",
    "    seqs = tokenizer.texts_to_sequences(corpus)\n",
    "    padded_seqs = pad_sequences(seqs, padding='post', maxlen=maxlen)\n",
    "\n",
    "    return padded_seqs, tokenizer"
   ]
  },
  {
   "cell_type": "code",
   "execution_count": 10,
   "metadata": {
    "id": "D8gCiXWAMOUA"
   },
   "outputs": [],
   "source": [
    "input_train, input_tokenizer = tokenize(if_corpus)\n",
    "target_train, target_tokenizer = tokenize(f_corpus)"
   ]
  },
  {
   "cell_type": "code",
   "execution_count": 11,
   "metadata": {
    "id": "ROQQKO8uMOUA"
   },
   "outputs": [],
   "source": [
    "input_test, _ = tokenize(if_holdout, input_tokenizer, 32)\n",
    "target_test, _ = tokenize(f_holdout, target_tokenizer)"
   ]
  },
  {
   "cell_type": "code",
   "execution_count": 12,
   "metadata": {
    "id": "MJpBO_F9MOUA"
   },
   "outputs": [],
   "source": [
    "buffer_size = len(input_train)\n",
    "steps_per_epoch = len(input_train) // BATCH_SIZE\n",
    "input_vocab_size = len(input_tokenizer.word_index) + 1\n",
    "target_vocab_size = len(target_tokenizer.word_index) + 1\n",
    "\n",
    "train = tf.data.Dataset.from_tensor_slices((input_train, target_train)).shuffle(buffer_size)\n",
    "train = train.batch(BATCH_SIZE, drop_remainder=True)\n",
    "\n",
    "test = tf.data.Dataset.from_tensor_slices((input_test, target_test)).batch(1)"
   ]
  },
  {
   "cell_type": "code",
   "execution_count": 13,
   "metadata": {
    "id": "Ua_l1fZEMOUA"
   },
   "outputs": [],
   "source": [
    "example_input_batch, example_target_batch = next(iter(train))"
   ]
  },
  {
   "cell_type": "code",
   "execution_count": 14,
   "metadata": {
    "id": "xpGaTdQN0nKP"
   },
   "outputs": [],
   "source": [
    "test_in_batch, test_out_batch = next(iter(test))"
   ]
  },
  {
   "cell_type": "markdown",
   "metadata": {
    "id": "oSCRTB5PjmvD"
   },
   "source": [
    "# Setup Embedding Weights"
   ]
  },
  {
   "cell_type": "code",
   "execution_count": 15,
   "metadata": {
    "id": "Enju-_z_p9u7"
   },
   "outputs": [],
   "source": [
    "def embedding_matrix(tokenizer, vocab_size, embedding_dim):\n",
    "    embeddings_index = {}\n",
    "    with open(EMBEDDING_PATH) as f:\n",
    "        for line in f:\n",
    "            values = line.split()\n",
    "            word = values[0]\n",
    "            coefs = np.asarray(values[1:], dtype='float32')\n",
    "            embeddings_index[word] = coefs\n",
    "\n",
    "    embeddings_matrix = np.zeros((vocab_size, embedding_dim))\n",
    "    for word, i in tokenizer.word_index.items():\n",
    "        embedding_vector = embeddings_index.get(word)\n",
    "        if embedding_vector is not None:\n",
    "            embeddings_matrix[i] = embedding_vector\n",
    "\n",
    "    return embeddings_matrix"
   ]
  },
  {
   "cell_type": "code",
   "execution_count": 16,
   "metadata": {
    "id": "ovQqc3ibqVj6"
   },
   "outputs": [],
   "source": [
    "enc_E_mat = embedding_matrix(input_tokenizer, input_vocab_size, EMBEDDING_DIM)"
   ]
  },
  {
   "cell_type": "markdown",
   "metadata": {
    "id": "1pv7RI8NMOUA"
   },
   "source": [
    "### Encoder"
   ]
  },
  {
   "cell_type": "markdown",
   "metadata": {
    "id": "1dVMrge8kBd3"
   },
   "source": [
    "Using one bidirectional LSTMs because that was reported to get almost as good performance as 2 LSTMs"
   ]
  },
  {
   "cell_type": "code",
   "execution_count": 17,
   "metadata": {
    "id": "SiW3IKWKMOUA"
   },
   "outputs": [],
   "source": [
    "class Encoder(tf.keras.Model):\n",
    "    def __init__(self, vocab_size, embedding_dim, encoder_units, batch_size,\n",
    "                 weight_matrix):\n",
    "        super(Encoder, self).__init__()\n",
    "        self.batch_size = batch_size\n",
    "        self.encoder_units = encoder_units\n",
    "        self.embedding = tf.keras.layers.Embedding(vocab_size, \n",
    "                                                   embedding_dim,\n",
    "                                                   weights=[weight_matrix])\n",
    "        self.lstm_1 = tf.keras.layers.LSTM(\n",
    "            self.encoder_units,\n",
    "            return_sequences=True,\n",
    "            return_state=True\n",
    "        )\n",
    "\n",
    "    def call(self, x, hidden_state):\n",
    "        \"\"\"Shove into latent space\"\"\"\n",
    "        # x shape: (batch_size x max_length x embedding_dim)\n",
    "        output = self.embedding(x)\n",
    "\n",
    "        # output shape: (batch_size x max_length x 2 * encoder_units)\n",
    "        output, _, _ = self.lstm_1(output)\n",
    "\n",
    "        return output"
   ]
  },
  {
   "cell_type": "code",
   "execution_count": 18,
   "metadata": {
    "id": "OjpvfT3XMOUA"
   },
   "outputs": [],
   "source": [
    "encoder = Encoder(input_vocab_size, EMBEDDING_DIM, ENCODER_UNITS, \n",
    "                  BATCH_SIZE, enc_E_mat)\n",
    "\n",
    "init_state = [tf.zeros((BATCH_SIZE, ENCODER_UNITS)) for _ in range(4)]\n",
    "\n",
    "sample_output = encoder(example_input_batch, init_state)"
   ]
  },
  {
   "cell_type": "markdown",
   "metadata": {
    "id": "RBwfe07qMOUA"
   },
   "source": [
    "### Decoder"
   ]
  },
  {
   "cell_type": "code",
   "execution_count": 19,
   "metadata": {
    "id": "3-RvXiF1MOUA"
   },
   "outputs": [],
   "source": [
    "class Decoder(tf.keras.Model):\n",
    "    def __init__(self, vocab_size, embedding_dim, decoder_units, batch_size):\n",
    "        super(Decoder, self).__init__()\n",
    "        self.batch_size = batch_size\n",
    "        self.embedding = tf.keras.layers.Embedding(vocab_size, embedding_dim)\n",
    "        self.lstm_1 = tf.keras.layers.LSTM(decoder_units,\n",
    "                                           return_sequences=True,\n",
    "                                           return_state=False)\n",
    "        self.flatten = tf.keras.layers.Flatten()\n",
    "        self.opt = tf.keras.layers.Dense(vocab_size)\n",
    "\n",
    "    def call(self, x, encoder_output):\n",
    "        # x shape: (batch_size, 1, embedding_dim)\n",
    "        output = self.embedding(x)\n",
    "\n",
    "        # output shape: (batch_size, 1, decoder_units)\n",
    "        # this shape is only important for expanding decoder depth\n",
    "        output = self.lstm_1(output)\n",
    "\n",
    "        # flatten to feed into opt\n",
    "        # output shape: (batch_size, hidden_size)\n",
    "        output = self.flatten(output)\n",
    "\n",
    "        # get logits\n",
    "        # x shape: (batch_size, vocab)\n",
    "        x = self.opt(output)\n",
    "\n",
    "        return x"
   ]
  },
  {
   "cell_type": "code",
   "execution_count": 20,
   "metadata": {
    "id": "9D1LdlK-MOUA"
   },
   "outputs": [],
   "source": [
    "decoder = Decoder(target_vocab_size, EMBEDDING_DIM, DECODER_UNITS, BATCH_SIZE)\n",
    "\n",
    "sample_decoder_input = tf.expand_dims([target_tokenizer.word_index['<start>']] * BATCH_SIZE, 1)\n",
    "\n",
    "sample_decoder_output = decoder(sample_decoder_input, sample_output)"
   ]
  },
  {
   "cell_type": "markdown",
   "metadata": {
    "id": "M0P04Qa_MOUA"
   },
   "source": [
    "### Optimizer and Loss Function"
   ]
  },
  {
   "cell_type": "markdown",
   "metadata": {
    "id": "unPfCctsMOUA"
   },
   "source": [
    "Here we define the optimizer and the loss function. In our loss function we mask the zeros since that's the padding.\n",
    "\n",
    "Also of note is in the loss function. The reduction argument at default does some really wonky things which threw off all results. Had to change the reduciton to none, which at default is auto. Not exactly sure what it does in this context but it tries to sum over batches. I didn't work with it because I wanted to control all loss calculation manually. "
   ]
  },
  {
   "cell_type": "code",
   "execution_count": 25,
   "metadata": {
    "id": "kis6sBiBMOUA"
   },
   "outputs": [],
   "source": [
    "optimizer = tf.keras.optimizers.Adam()\n",
    "static_loss = tf.keras.losses.SparseCategoricalCrossentropy(\n",
    "    from_logits=True, reduction='none')"
   ]
  },
  {
   "cell_type": "code",
   "execution_count": 26,
   "metadata": {
    "id": "vnIepemQMOUA"
   },
   "outputs": [],
   "source": [
    "def loss_function(real, preds):\n",
    "    \"\"\"Calculate and return loss\"\"\"\n",
    "\n",
    "    # caclulate loss\n",
    "    loss = static_loss(real, preds)\n",
    "    \n",
    "    # create padding mask \n",
    "    mask = tf.math.logical_not(tf.math.equal(real, 0))\n",
    "    mask = tf.cast(mask, dtype=loss.dtype)\n",
    "    \n",
    "    # apply mask\n",
    "    loss *= mask\n",
    "\n",
    "    return tf.reduce_mean(loss)"
   ]
  },
  {
   "cell_type": "markdown",
   "metadata": {
    "id": "_lzJ5Y0gMOUB"
   },
   "source": [
    "### Training"
   ]
  },
  {
   "cell_type": "markdown",
   "metadata": {
    "id": "eOLvx7ygrMtv"
   },
   "source": [
    "This is the training loop. I'm using teacher forcing because I don't think I have enough computational power to use beam search. Google reccomends beam search with a beam width of 10, but that isn't an option here. Teacher forcing will provide better results than without using it. "
   ]
  },
  {
   "cell_type": "code",
   "execution_count": 27,
   "metadata": {
    "id": "TV21GU90MOUB"
   },
   "outputs": [],
   "source": [
    "@tf.function\n",
    "def train_step(inpt, trgt, init_state):\n",
    "    loss = 0\n",
    "\n",
    "    with tf.GradientTape() as tape:\n",
    "        enc_output = encoder(inpt, init_state)\n",
    "\n",
    "        # Get start token for every sequence in batch\n",
    "        dec_input = tf.expand_dims([target_tokenizer.word_index['<start>']] * BATCH_SIZE, 1)\n",
    "\n",
    "        for i in range(1, trgt.shape[1]):\n",
    "            # dec_hidden shape: (batch_size, decoder_units)\n",
    "            # dec_input shape: (batch_size, 1)\n",
    "            predictions = decoder(dec_input, \n",
    "                                  enc_output)\n",
    "\n",
    "            loss += loss_function(trgt[:, i], predictions)\n",
    "            dec_input = tf.expand_dims(trgt[:, 1], 1)\n",
    "\n",
    "    # Apply gradients \n",
    "    trainable_variables = encoder.trainable_variables + decoder.trainable_variables\n",
    "    gradients = tape.gradient(loss, trainable_variables)\n",
    "    optimizer.apply_gradients(zip(gradients, trainable_variables))\n",
    "\n",
    "    # return batch loss\n",
    "    return loss"
   ]
  },
  {
   "cell_type": "code",
   "execution_count": 29,
   "metadata": {
    "colab": {
     "base_uri": "https://localhost:8080/"
    },
    "id": "iXRvBFyOMOUB",
    "outputId": "f21affa5-de2a-4acc-f02b-128072e7f85d"
   },
   "outputs": [
    {
     "name": "stdout",
     "output_type": "stream",
     "text": [
      "Epoch 1 Loss 381.7358\n",
      "Time taken 0:00:45.848956\n",
      "\n",
      "Epoch 2 Loss 380.7505\n",
      "Time taken 0:00:45.975878\n",
      "\n",
      "Epoch 3 Loss 379.9378\n",
      "Time taken 0:00:45.804792\n",
      "\n",
      "Epoch 4 Loss 379.1068\n",
      "Time taken 0:00:45.943130\n",
      "\n",
      "Epoch 5 Loss 378.4908\n",
      "Time taken 0:00:45.721870\n",
      "\n",
      "Epoch 6 Loss 377.8930\n",
      "Time taken 0:00:45.869635\n",
      "\n",
      "Epoch 7 Loss 377.4195\n",
      "Time taken 0:00:45.926568\n",
      "\n",
      "Epoch 8 Loss 376.9259\n",
      "Time taken 0:00:45.899789\n",
      "\n",
      "Epoch 9 Loss 376.5666\n",
      "Time taken 0:00:45.900474\n",
      "\n",
      "Epoch 10 Loss 376.2126\n",
      "Time taken 0:00:45.771482\n",
      "\n",
      "Epoch 11 Loss 375.8883\n",
      "Time taken 0:00:45.846654\n",
      "\n",
      "Epoch 12 Loss 375.5713\n",
      "Time taken 0:00:45.860442\n",
      "\n",
      "Epoch 13 Loss 375.2558\n",
      "Time taken 0:00:45.695137\n",
      "\n",
      "Epoch 14 Loss 374.9235\n",
      "Time taken 0:00:45.915196\n",
      "\n",
      "Epoch 15 Loss 374.7338\n",
      "Time taken 0:00:45.811437\n",
      "\n",
      "Epoch 16 Loss 374.4879\n",
      "Time taken 0:00:45.774587\n",
      "\n",
      "Epoch 17 Loss 374.3262\n",
      "Time taken 0:00:45.804848\n",
      "\n",
      "Epoch 18 Loss 374.1107\n",
      "Time taken 0:00:45.874961\n",
      "\n",
      "Epoch 19 Loss 373.9610\n",
      "Time taken 0:00:45.841723\n",
      "\n",
      "Epoch 20 Loss 373.8383\n",
      "Time taken 0:00:45.847088\n",
      "\n"
     ]
    }
   ],
   "source": [
    "EPOCHS = 20\n",
    "# encoder = Encoder(input_vocab_size, EMBEDDING_DIM, ENCODER_UNITS, \n",
    "#                   BATCH_SIZE, enc_E_mat)\n",
    "# decoder = Decoder(target_vocab_size, EMBEDDING_DIM, ATTENTION_UNITS, \n",
    "#                   DECODER_UNITS, BATCH_SIZE)\n",
    "\n",
    "for epoch in range(EPOCHS):\n",
    "    start = datetime.now()\n",
    "\n",
    "    total_loss = 0\n",
    "\n",
    "#     This resets the hidden state of the LSTM for every epoch\n",
    "#     init_state = [tf.zeros((BATCH_SIZE, ENCODER_UNITS)) for _ in range(4)]\n",
    "    init_state = None\n",
    "\n",
    "    for inpt, trgt in train.take(steps_per_epoch):\n",
    "        total_loss += train_step(inpt, trgt, init_state)\n",
    "\n",
    "    print('Epoch {} Loss {:.4f}'.format(epoch + 1,\n",
    "                                        total_loss / BATCH_SIZE))\n",
    "    print('Time taken {}\\n'.format(datetime.now() - start))"
   ]
  },
  {
   "cell_type": "code",
   "execution_count": 36,
   "metadata": {
    "id": "uEr2AFkJMOUB"
   },
   "outputs": [],
   "source": [
    "def evaluate(data):\n",
    "    loss = 0\n",
    "    results = []\n",
    "    bleu = 0\n",
    "\n",
    "    for i, (x, y) in enumerate(data):\n",
    "\n",
    "        result = '<start>'\n",
    "        next_word = True\n",
    "\n",
    "        init_state = [tf.zeros((1, ENCODER_UNITS)) for _ in range(4)]\n",
    "\n",
    "        # This feeds in the start token for the first initial state\n",
    "        dec_input = tf.expand_dims([target_tokenizer.word_index['<start>']], 0)\n",
    "        \n",
    "        # Get inputs\n",
    "        enc_output = encoder(x, init_state)\n",
    "\n",
    "        j = 1  # iterative count\n",
    "        while next_word: \n",
    "            # dec_hidden shape: (batch_size, decoder_units)\n",
    "            # dec_input shape: (batch_size, 1)\n",
    "            predictions = decoder(dec_input, \n",
    "                                  enc_output)\n",
    "            loss += loss_function(y[:, j], predictions)\n",
    "            \n",
    "            # max logit for tokenized word\n",
    "            word_idx = tf.argmax(predictions[0]).numpy()\n",
    "            word = target_tokenizer.index_word[word_idx]\n",
    "            result += word + ' '\n",
    "\n",
    "            dec_input = tf.expand_dims([word_idx], 0)\n",
    "\n",
    "            if word == '<end>':\n",
    "                next_word = False\n",
    "            \n",
    "            if i >= y.shape[1] - 1:\n",
    "                result += '<end>'\n",
    "                next_word = False\n",
    "            \n",
    "            j += 1\n",
    "\n",
    "        results.append(result)\n",
    "        bleu += sentence_bleu(f_holdout[i], result)\n",
    "\n",
    "    return results, loss.numpy() / len(f_holdout), bleu / len(f_holdout)"
   ]
  },
  {
   "cell_type": "code",
   "execution_count": 37,
   "metadata": {
    "id": "vft0SHsNEBNk"
   },
   "outputs": [],
   "source": [
    "results, test_loss, bleu = evaluate(test)"
   ]
  },
  {
   "cell_type": "code",
   "execution_count": 38,
   "metadata": {
    "colab": {
     "base_uri": "https://localhost:8080/"
    },
    "id": "xyrwQzJ2aJXJ",
    "outputId": "f7f303d2-f814-418e-9cb6-6782a143639e"
   },
   "outputs": [
    {
     "data": {
      "text/plain": [
       "4.785417318711479"
      ]
     },
     "execution_count": 38,
     "metadata": {
      "tags": []
     },
     "output_type": "execute_result"
    }
   ],
   "source": [
    "test_loss"
   ]
  },
  {
   "cell_type": "code",
   "execution_count": 39,
   "metadata": {
    "colab": {
     "base_uri": "https://localhost:8080/"
    },
    "id": "e7UPBTU-aZiY",
    "outputId": "3439bb3c-fe07-4f8e-af37-b18e687538da"
   },
   "outputs": [
    {
     "data": {
      "text/plain": [
       "0.9395869798791913"
      ]
     },
     "execution_count": 39,
     "metadata": {
      "tags": []
     },
     "output_type": "execute_result"
    }
   ],
   "source": [
    "bleu"
   ]
  },
  {
   "cell_type": "code",
   "execution_count": 40,
   "metadata": {
    "id": "_RXdV1DNZqAj"
   },
   "outputs": [],
   "source": [
    "def examine(index):\n",
    "    print(\"Informal: \", if_holdout[index])\n",
    "    print(\"Formal: \", f_holdout[index])\n",
    "    print(\"Predicted: \", results[index])"
   ]
  },
  {
   "cell_type": "code",
   "execution_count": 44,
   "metadata": {
    "colab": {
     "base_uri": "https://localhost:8080/"
    },
    "id": "aNS9wCEOaOmH",
    "outputId": "b3891b08-38e3-42ea-e7fb-bcc1f066dd46"
   },
   "outputs": [
    {
     "name": "stdout",
     "output_type": "stream",
     "text": [
      "Informal:  <start> you should give it a try .  <end>\n",
      "Formal:  <start> You should give it a try .  <end>\n",
      "Predicted:  <start>i <end>\n"
     ]
    }
   ],
   "source": [
    "examine(222)"
   ]
  }
 ],
 "metadata": {
  "accelerator": "GPU",
  "colab": {
   "name": "Attention Model.ipynb",
   "provenance": [],
   "toc_visible": true
  },
  "kernelspec": {
   "display_name": "Python 3",
   "language": "python",
   "name": "python3"
  },
  "language_info": {
   "codemirror_mode": {
    "name": "ipython",
    "version": 3
   },
   "file_extension": ".py",
   "mimetype": "text/x-python",
   "name": "python",
   "nbconvert_exporter": "python",
   "pygments_lexer": "ipython3",
   "version": "3.7.6"
  }
 },
 "nbformat": 4,
 "nbformat_minor": 4
}
