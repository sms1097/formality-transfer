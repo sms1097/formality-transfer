{
 "cells": [
  {
   "cell_type": "markdown",
   "metadata": {
    "id": "-WZnAymJMOT-"
   },
   "source": [
    "# Encoder-Decoder MT Attention Network"
   ]
  },
  {
   "cell_type": "markdown",
   "metadata": {
    "id": "q8d9mBnhodGq"
   },
   "source": [
    "These are all the papers I reference:\n",
    "\n",
    "\n",
    "1.   [Google Paper](https://arxiv.org/pdf/1609.08144.pdf): This was a study from google on how to configure encoder/decoder networks with attention for machine translation. Most of the decisions I made on what layers to use, how many to use, what attention to use, and other hyper parameters I use are determined from this. I mention most of them as they happen.\n",
    "2.   [Luong et al](https://arxiv.org/pdf/1508.04025.pdf): This is the general scafolding I used for writing the network. This paper is a more digestable than the Bahdanau paper for the general strucutre of writing the seq2seq model.\n",
    "3.   [Bahdanau et al](https://arxiv.org/pdf/1409.0473.pdf): Google referecnes \n",
    "Bahdanau attention as the better decision for attention. Bahdanau attention is referenced in the Luong paper too, but is slightly modified. The difference between the two is explored below. \n",
    "\n"
   ]
  },
  {
   "cell_type": "code",
   "execution_count": 32,
   "metadata": {
    "id": "wZpo0DbmMOT_"
   },
   "outputs": [],
   "source": [
    "import numpy as np\n",
    "import seaborn as sns\n",
    "import tensorflow as tf\n",
    "\n",
    "import re \n",
    "import os\n",
    "from datetime import datetime\n",
    "\n",
    "from nltk.translate.bleu_score import sentence_bleu\n",
    "\n",
    "from tensorflow.keras.preprocessing.text import Tokenizer\n",
    "from tensorflow.keras.preprocessing.sequence import pad_sequences"
   ]
  },
  {
   "cell_type": "markdown",
   "metadata": {
    "id": "hIh8TGdFMOT_"
   },
   "source": [
    "### Declare Static Variables"
   ]
  },
  {
   "cell_type": "code",
   "execution_count": 33,
   "metadata": {
    "colab": {
     "base_uri": "https://localhost:8080/"
    },
    "id": "MLWD_vDUMUbK",
    "outputId": "1f7fe188-dff2-4a91-ebf1-b68e0c71167e"
   },
   "outputs": [
    {
     "name": "stdout",
     "output_type": "stream",
     "text": [
      "Drive already mounted at /content/drive; to attempt to forcibly remount, call drive.mount(\"/content/drive\", force_remount=True).\n"
     ]
    }
   ],
   "source": [
    "from google.colab import drive\n",
    "drive.mount('/content/drive')"
   ]
  },
  {
   "cell_type": "markdown",
   "metadata": {
    "id": "OiCo7jwJMOT_"
   },
   "source": [
    "These parameters are mostly stolen from the Google Paper, except for embedding dim which is determined from GloVE."
   ]
  },
  {
   "cell_type": "code",
   "execution_count": 34,
   "metadata": {
    "id": "RgjKj15QMOT_"
   },
   "outputs": [],
   "source": [
    "EMBEDDING_DIM = 200\n",
    "ATTENTION_UNITS = 512\n",
    "ENCODER_UNITS = 1024\n",
    "DECODER_UNITS = 1024\n",
    "BATCH_SIZE = 64\n",
    "MAX_INPUT_LENGTH = 32"
   ]
  },
  {
   "cell_type": "markdown",
   "metadata": {
    "id": "X9sTDg2lMOT_"
   },
   "source": [
    "### Load Data"
   ]
  },
  {
   "cell_type": "code",
   "execution_count": 35,
   "metadata": {
    "id": "qzSYxc4yMOT_"
   },
   "outputs": [],
   "source": [
    "BASE_PATH = '/content/drive/MyDrive/Data/Data'  # on local is path to directory\n",
    "\n",
    "FORMAL_PATH_TRAIN = '{}/Supervised Data/Entertainment_Music/S_Formal_EM_Train.txt'.format(BASE_PATH)\n",
    "INFORMAL_PATH_TRAIN = '{}/Supervised Data/Entertainment_Music/S_Informal_EM_Train.txt'.format(BASE_PATH)\n",
    "\n",
    "FORMAL_PATH_HOLDOUT = '{}/Supervised Data/Entertainment_Music/S_Formal_EM_ValTest.txt'.format(BASE_PATH)\n",
    "INFORMAL_PATH_HOLDOUT = '{}/Supervised Data/Entertainment_Music/S_Informal_EM_ValTest.txt'.format(BASE_PATH)\n",
    "\n",
    "EMBEDDING_PATH = '{}/glove.6B.200d.txt'.format(BASE_PATH)"
   ]
  },
  {
   "cell_type": "code",
   "execution_count": 36,
   "metadata": {
    "id": "x6EaDkEtMOUA"
   },
   "outputs": [],
   "source": [
    "formal = open(FORMAL_PATH_TRAIN).read()\n",
    "informal = open(INFORMAL_PATH_TRAIN).read()\n",
    "\n",
    "formal_holdout = open(FORMAL_PATH_HOLDOUT).read()\n",
    "informal_holdout = open(INFORMAL_PATH_HOLDOUT).read()"
   ]
  },
  {
   "cell_type": "code",
   "execution_count": 37,
   "metadata": {
    "id": "fenTZWMxMOUA"
   },
   "outputs": [],
   "source": [
    "def process_sequence(seq):\n",
    "    \"\"\"This inserts a space in between the last word and a period\"\"\"\n",
    "    s = re.sub('([.,!?()])', r' \\1 ', seq)\n",
    "    s = re.sub('\\s{2,}', ' ', s)\n",
    "    \n",
    "    return '<start> ' + s + ' <end>'"
   ]
  },
  {
   "cell_type": "code",
   "execution_count": 38,
   "metadata": {
    "id": "6_pLPgB0MOUA"
   },
   "outputs": [],
   "source": [
    "f_corpus = [process_sequence(seq) for seq in formal.split('\\n')]\n",
    "if_corpus = [process_sequence(seq) for seq in informal.split('\\n')]\n",
    "\n",
    "f_holdout = [process_sequence(seq) for seq in formal_holdout.split('\\n')]\n",
    "if_holdout = [process_sequence(seq) for seq in informal_holdout.split('\\n')]"
   ]
  },
  {
   "cell_type": "markdown",
   "metadata": {
    "id": "Xuet6JWVMOUA"
   },
   "source": [
    "### Preprocess data"
   ]
  },
  {
   "cell_type": "code",
   "execution_count": 39,
   "metadata": {
    "id": "czog7VXRMOUA"
   },
   "outputs": [],
   "source": [
    "def tokenize(corpus, tokenizer=None, maxlen=None):\n",
    "    \"\"\" Tokenize data and pad sequences \"\"\"\n",
    "    if not tokenizer: \n",
    "        tokenizer = Tokenizer(filters='!\"#$%&()*+,-./:;=?@[\\\\]^_`{|}~\\t\\n', \n",
    "                              oov_token='<OOV>')\n",
    "        tokenizer.fit_on_texts(corpus)\n",
    "    \n",
    "    seqs = tokenizer.texts_to_sequences(corpus)\n",
    "    padded_seqs = pad_sequences(seqs, padding='post', maxlen=maxlen)\n",
    "\n",
    "    return padded_seqs, tokenizer"
   ]
  },
  {
   "cell_type": "code",
   "execution_count": 40,
   "metadata": {
    "id": "D8gCiXWAMOUA"
   },
   "outputs": [],
   "source": [
    "input_train, input_tokenizer = tokenize(if_corpus)\n",
    "target_train, target_tokenizer = tokenize(f_corpus)"
   ]
  },
  {
   "cell_type": "code",
   "execution_count": 41,
   "metadata": {
    "id": "ROQQKO8uMOUA"
   },
   "outputs": [],
   "source": [
    "input_test, _ = tokenize(if_holdout, input_tokenizer, 32)\n",
    "target_test, _ = tokenize(f_holdout, target_tokenizer)"
   ]
  },
  {
   "cell_type": "code",
   "execution_count": 42,
   "metadata": {
    "id": "MJpBO_F9MOUA"
   },
   "outputs": [],
   "source": [
    "buffer_size = len(input_train)\n",
    "steps_per_epoch = len(input_train) // BATCH_SIZE\n",
    "input_vocab_size = len(input_tokenizer.word_index) + 1\n",
    "target_vocab_size = len(target_tokenizer.word_index) + 1\n",
    "\n",
    "train = tf.data.Dataset.from_tensor_slices((input_train, target_train)).shuffle(buffer_size)\n",
    "train = train.batch(BATCH_SIZE, drop_remainder=True)\n",
    "\n",
    "test = tf.data.Dataset.from_tensor_slices((input_test, target_test)).batch(1)"
   ]
  },
  {
   "cell_type": "code",
   "execution_count": 43,
   "metadata": {
    "id": "Ua_l1fZEMOUA"
   },
   "outputs": [],
   "source": [
    "example_input_batch, example_target_batch = next(iter(train))"
   ]
  },
  {
   "cell_type": "code",
   "execution_count": 44,
   "metadata": {
    "id": "xpGaTdQN0nKP"
   },
   "outputs": [],
   "source": [
    "test_in_batch, test_out_batch = next(iter(test))"
   ]
  },
  {
   "cell_type": "markdown",
   "metadata": {
    "id": "oSCRTB5PjmvD"
   },
   "source": [
    "# Setup Embedding Weights"
   ]
  },
  {
   "cell_type": "code",
   "execution_count": 45,
   "metadata": {
    "id": "Enju-_z_p9u7"
   },
   "outputs": [],
   "source": [
    "def embedding_matrix(tokenizer, vocab_size, embedding_dim):\n",
    "    embeddings_index = {}\n",
    "    with open(EMBEDDING_PATH) as f:\n",
    "        for line in f:\n",
    "            values = line.split()\n",
    "            word = values[0]\n",
    "            coefs = np.asarray(values[1:], dtype='float32')\n",
    "            embeddings_index[word] = coefs\n",
    "\n",
    "    embeddings_matrix = np.zeros((vocab_size, embedding_dim))\n",
    "    for word, i in tokenizer.word_index.items():\n",
    "        embedding_vector = embeddings_index.get(word)\n",
    "        if embedding_vector is not None:\n",
    "            embeddings_matrix[i] = embedding_vector\n",
    "\n",
    "    return embeddings_matrix"
   ]
  },
  {
   "cell_type": "code",
   "execution_count": 46,
   "metadata": {
    "id": "ovQqc3ibqVj6"
   },
   "outputs": [],
   "source": [
    "enc_E_mat = embedding_matrix(input_tokenizer, input_vocab_size, EMBEDDING_DIM)\n",
    "dec_E_mat = embedding_matrix(target_tokenizer, target_vocab_size, EMBEDDING_DIM)"
   ]
  },
  {
   "cell_type": "markdown",
   "metadata": {
    "id": "1pv7RI8NMOUA"
   },
   "source": [
    "### Encoder"
   ]
  },
  {
   "cell_type": "markdown",
   "metadata": {
    "id": "1dVMrge8kBd3"
   },
   "source": [
    "Using one bidirectional LSTMs because that was reported to get almost as good performance as 2 LSTMs"
   ]
  },
  {
   "cell_type": "code",
   "execution_count": 47,
   "metadata": {
    "id": "SiW3IKWKMOUA"
   },
   "outputs": [],
   "source": [
    "class Encoder(tf.keras.Model):\n",
    "    def __init__(self, vocab_size, embedding_dim, encoder_units, batch_size,\n",
    "                 weight_matrix):\n",
    "        super(Encoder, self).__init__()\n",
    "        self.batch_size = batch_size\n",
    "        self.encoder_units = encoder_units\n",
    "        self.embedding = tf.keras.layers.Embedding(vocab_size, \n",
    "                                                   embedding_dim,\n",
    "                                                   weights=[weight_matrix])\n",
    "        self.lstm_1 = tf.keras.layers.Bidirectional(\n",
    "            tf.keras.layers.LSTM(\n",
    "                self.encoder_units,\n",
    "                return_sequences=True,\n",
    "                return_state=True\n",
    "            )\n",
    "        )\n",
    "\n",
    "    def call(self, x, hidden_state):\n",
    "        \"\"\"Shove into latent space\"\"\"\n",
    "        # x shape: (batch_size x max_length x embedding_dim)\n",
    "        x = self.embedding(x)\n",
    "\n",
    "        # output shape: (batch_size x max_length x 2 * encoder_units)\n",
    "        # h_f, h_b shapes: (batch_size x encoder_units)\n",
    "        output, h_f, _, h_b, _ = self.lstm_1(x, initial_state=hidden_state)\n",
    "\n",
    "        return output, h_f, h_b"
   ]
  },
  {
   "cell_type": "code",
   "execution_count": 48,
   "metadata": {
    "id": "OjpvfT3XMOUA"
   },
   "outputs": [],
   "source": [
    "encoder = Encoder(input_vocab_size, EMBEDDING_DIM, ENCODER_UNITS, \n",
    "                  BATCH_SIZE, enc_E_mat)\n",
    "\n",
    "init_state = [tf.zeros((BATCH_SIZE, ENCODER_UNITS)) for _ in range(4)]\n",
    "\n",
    "sample_output, hidden_forward, hidden_backward = encoder(example_input_batch, \n",
    "                                                         init_state)"
   ]
  },
  {
   "cell_type": "markdown",
   "metadata": {
    "id": "Zc0BAr9pMOUA"
   },
   "source": [
    "### Attention Layer"
   ]
  },
  {
   "cell_type": "code",
   "execution_count": 49,
   "metadata": {
    "id": "NP5YEjIOMOUA"
   },
   "outputs": [],
   "source": [
    "class GlobalAttention(tf.keras.layers.Layer):\n",
    "    \"\"\"\n",
    "    This is called GlobalAttention since that's what\n",
    "    Bahdanau attention is called in the Luong paper\n",
    "    and most of this implementation follows that \n",
    "    scaffolding. \n",
    "\n",
    "    The difference between this and global attention\n",
    "    is concatenating the forward and backward hidden\n",
    "    states from the \n",
    "    \"\"\"\n",
    "    def __init__(self, units):\n",
    "        \"\"\"These parameters follow notation from Bahdanau paper\"\"\"\n",
    "        super(GlobalAttention, self).__init__()\n",
    "        self.W = tf.keras.layers.Dense(units)\n",
    "        self.U = tf.keras.layers.Dense(units)\n",
    "        self.v = tf.keras.layers.Dense(1)\n",
    "\n",
    "    def call(self, enc_opt, hidden_f, hidden_b):\n",
    "        # concatenate hidden states as in eq 7 Bahdanau\n",
    "        # hidden shape: (batch_size, 2 * lstm_units)\n",
    "        hidden = tf.concat([hidden_f, hidden_b], axis=-1)\n",
    "\n",
    "        # expand dims to meet shape of latent tensor\n",
    "        # hidden_broad shape: (batch_size, 1, encoder_units * 2)\n",
    "        hidden_broad = tf.expand_dims(hidden, 1)\n",
    "\n",
    "        # Alignment model score from A.1.2 of Bahdanau et al \n",
    "        # score shape: (batch_size, max_length, v_units)\n",
    "        score = self.v(tf.nn.tanh(self.W(hidden_broad) + self.U(enc_opt)))\n",
    "\n",
    "        # softmax generalization of eq(7) Luong\n",
    "        # attention_weights shape: (batch_size, max_length, 1)\n",
    "        attention_weights = tf.nn.softmax(score, axis=1)  \n",
    "\n",
    "        # This takes weighted average with attention weights\n",
    "        # context shape: (batch_size, 2 * encoder_units)\n",
    "        context = attention_weights * enc_opt\n",
    "        context = tf.reduce_sum(context, axis=1)\n",
    "\n",
    "        return context, attention_weights"
   ]
  },
  {
   "cell_type": "code",
   "execution_count": 50,
   "metadata": {
    "id": "W7q_BYLQMOUA"
   },
   "outputs": [],
   "source": [
    "attention_layer = GlobalAttention(ATTENTION_UNITS)\n",
    "attention_result, attention_weights = attention_layer(sample_output, \n",
    "                                                      hidden_forward, \n",
    "                                                      hidden_backward)"
   ]
  },
  {
   "cell_type": "markdown",
   "metadata": {
    "id": "RBwfe07qMOUA"
   },
   "source": [
    "### Decoder"
   ]
  },
  {
   "cell_type": "code",
   "execution_count": 51,
   "metadata": {
    "id": "3-RvXiF1MOUA"
   },
   "outputs": [],
   "source": [
    "class Decoder(tf.keras.Model):\n",
    "    def __init__(self, vocab_size, embedding_dim, attention_units, \n",
    "                 decoder_units, batch_size):\n",
    "        super(Decoder, self).__init__()\n",
    "        self.batch_size = batch_size\n",
    "        self.attention = GlobalAttention(attention_units)\n",
    "        self.embedding = tf.keras.layers.Embedding(vocab_size, embedding_dim)\n",
    "                                                #    weights=[embedding_weights])\n",
    "        self.lstm_1 = tf.keras.layers.LSTM(decoder_units,\n",
    "                                           return_sequences=True,\n",
    "                                           return_state=True)\n",
    "        self.flatten = tf.keras.layers.Flatten()\n",
    "        self.opt = tf.keras.layers.Dense(vocab_size)\n",
    "\n",
    "    def call(self, x, hidden_f, hidden_b, encoder_output):\n",
    "        context_vector, attention_weights = self.attention(encoder_output, \n",
    "                                                           hidden_f, hidden_b)\n",
    "\n",
    "        # x shape: (batch_size, 1, embedding_dim)\n",
    "        x = self.embedding(x)\n",
    "\n",
    "        # x shape: (batch_size, 1, embedding_dim + 2 * encoder_units)\n",
    "        x = tf.concat([tf.expand_dims(context_vector, 1), x], axis=-1)\n",
    "\n",
    "        # output shape: (batch_size, 1, decoder_units)\n",
    "        # this shape is only important for expanding decoder depth\n",
    "        output, h_f, c_f = self.lstm_1(x)\n",
    "\n",
    "        # flatten to feed into opt\n",
    "        # output shape: (batch_size, hidden_size)\n",
    "        output = self.flatten(output)\n",
    "\n",
    "        # get logits\n",
    "        # x shape: (batch_size, vocab)\n",
    "        x = self.opt(output)\n",
    "\n",
    "        return x, h_f, attention_weights"
   ]
  },
  {
   "cell_type": "code",
   "execution_count": 52,
   "metadata": {
    "id": "9D1LdlK-MOUA"
   },
   "outputs": [],
   "source": [
    "decoder = Decoder(target_vocab_size, EMBEDDING_DIM, ATTENTION_UNITS, \n",
    "                  DECODER_UNITS, BATCH_SIZE)\n",
    "\n",
    "sample_decoder_input = tf.expand_dims([target_tokenizer.word_index['<start>']] * BATCH_SIZE, 1)\n",
    "\n",
    "sample_decoder_output, _, _ = decoder(sample_decoder_input, hidden_forward, hidden_backward, sample_output)"
   ]
  },
  {
   "cell_type": "markdown",
   "metadata": {
    "id": "M0P04Qa_MOUA"
   },
   "source": [
    "### Optimizer and Loss Function"
   ]
  },
  {
   "cell_type": "markdown",
   "metadata": {
    "id": "unPfCctsMOUA"
   },
   "source": [
    "Here we define the optimizer and the loss function. In our loss function we mask the zeros since that's the padding.\n",
    "\n",
    "Also of note is in the loss function. The reduction argument at default does some really wonky things which threw off all results. Had to change the reduciton to none, which at default is auto. Not exactly sure what it does in this context but it tries to sum over batches. I didn't work with it because I wanted to control all loss calculation manually. "
   ]
  },
  {
   "cell_type": "code",
   "execution_count": 53,
   "metadata": {
    "id": "kis6sBiBMOUA"
   },
   "outputs": [],
   "source": [
    "optimizer = tf.keras.optimizers.Adam()\n",
    "static_loss = tf.keras.losses.SparseCategoricalCrossentropy(\n",
    "    from_logits=True, reduction='none')"
   ]
  },
  {
   "cell_type": "code",
   "execution_count": 54,
   "metadata": {
    "id": "vnIepemQMOUA"
   },
   "outputs": [],
   "source": [
    "def loss_function(real, preds):\n",
    "    \"\"\"Calculate and return loss\"\"\"\n",
    "\n",
    "    # caclulate loss\n",
    "    loss = static_loss(real, preds)\n",
    "    \n",
    "    # create padding mask \n",
    "    mask = tf.math.logical_not(tf.math.equal(real, 0))\n",
    "    mask = tf.cast(mask, dtype=loss.dtype)\n",
    "    \n",
    "    # apply mask\n",
    "    loss *= mask\n",
    "\n",
    "    return tf.reduce_mean(loss)"
   ]
  },
  {
   "cell_type": "markdown",
   "metadata": {
    "id": "_lzJ5Y0gMOUB"
   },
   "source": [
    "### Training"
   ]
  },
  {
   "cell_type": "markdown",
   "metadata": {
    "id": "eOLvx7ygrMtv"
   },
   "source": [
    "This is the training loop. I'm using teacher forcing because I don't think I have enough computational power to use beam search. Google reccomends beam search with a beam width of 10, but that isn't an option here. Teacher forcing will provide better results than without using it. "
   ]
  },
  {
   "cell_type": "code",
   "execution_count": 55,
   "metadata": {
    "id": "TV21GU90MOUB"
   },
   "outputs": [],
   "source": [
    "@tf.function\n",
    "def train_step(inpt, trgt, init_state):\n",
    "    loss = 0\n",
    "\n",
    "    with tf.GradientTape() as tape:\n",
    "        enc_output, dec_hidden_forward, dec_hidden_backward = encoder(inpt, init_state)\n",
    "\n",
    "        # Get start token for every sequence in batch\n",
    "        dec_input = tf.expand_dims([target_tokenizer.word_index['<start>']] * BATCH_SIZE, 1)\n",
    "\n",
    "        for i in range(1, trgt.shape[1]):\n",
    "            # dec_hidden shape: (batch_size, decoder_units)\n",
    "            # dec_input shape: (batch_size, 1)\n",
    "            predictions, dec_hidden_forward, _ = decoder(dec_input, \n",
    "                                                         dec_hidden_forward, \n",
    "                                                         dec_hidden_backward, \n",
    "                                                         enc_output)\n",
    "\n",
    "            loss += loss_function(trgt[:, i], predictions)\n",
    "            dec_input = tf.expand_dims(trgt[:, 1], 1)\n",
    "\n",
    "        # Apply gradients \n",
    "        trainable_variables = encoder.trainable_variables + decoder.trainable_variables\n",
    "        gradients = tape.gradient(loss, trainable_variables)\n",
    "        optimizer.apply_gradients(zip(gradients, trainable_variables))\n",
    "\n",
    "        # return batch loss\n",
    "        return loss"
   ]
  },
  {
   "cell_type": "code",
   "execution_count": 64,
   "metadata": {
    "colab": {
     "base_uri": "https://localhost:8080/"
    },
    "id": "iXRvBFyOMOUB",
    "outputId": "64c6b8e9-72cc-446e-f803-10063ab699b0"
   },
   "outputs": [
    {
     "name": "stdout",
     "output_type": "stream",
     "text": [
      "Epoch 1 Loss 147.6327\n",
      "Time taken 0:03:52.158366\n",
      "\n",
      "Epoch 2 Loss 141.4020\n",
      "Time taken 0:04:00.594060\n",
      "\n",
      "Epoch 3 Loss 132.2841\n",
      "Time taken 0:04:01.713071\n",
      "\n",
      "Epoch 4 Loss 125.9896\n",
      "Time taken 0:04:01.427370\n",
      "\n",
      "Epoch 5 Loss 119.8938\n",
      "Time taken 0:04:01.549076\n",
      "\n",
      "Epoch 6 Loss 115.2122\n",
      "Time taken 0:04:02.001586\n",
      "\n",
      "Epoch 7 Loss 112.0719\n",
      "Time taken 0:04:01.959614\n",
      "\n",
      "Epoch 8 Loss 105.4287\n",
      "Time taken 0:04:01.536356\n",
      "\n",
      "Epoch 9 Loss 99.3208\n",
      "Time taken 0:04:01.369864\n",
      "\n",
      "Epoch 10 Loss 95.9195\n",
      "Time taken 0:04:02.019374\n",
      "\n",
      "Epoch 11 Loss 92.0392\n",
      "Time taken 0:04:02.359912\n",
      "\n",
      "Epoch 12 Loss 93.8921\n",
      "Time taken 0:04:02.293469\n",
      "\n",
      "Epoch 13 Loss 90.3222\n",
      "Time taken 0:04:02.012010\n",
      "\n",
      "Epoch 14 Loss 85.6894\n",
      "Time taken 0:04:01.900150\n",
      "\n",
      "Epoch 15 Loss 80.8587\n",
      "Time taken 0:04:01.630536\n",
      "\n",
      "Epoch 16 Loss 79.4941\n",
      "Time taken 0:04:01.104732\n",
      "\n",
      "Epoch 17 Loss 76.4408\n",
      "Time taken 0:04:00.862888\n",
      "\n",
      "Epoch 18 Loss 73.7492\n",
      "Time taken 0:04:01.147672\n",
      "\n",
      "Epoch 19 Loss 73.7120\n",
      "Time taken 0:04:01.002842\n",
      "\n",
      "Epoch 20 Loss 72.0667\n",
      "Time taken 0:04:01.255750\n",
      "\n"
     ]
    }
   ],
   "source": [
    "EPOCHS = 20\n",
    "# encoder = Encoder(input_vocab_size, EMBEDDING_DIM, ENCODER_UNITS, \n",
    "#                   BATCH_SIZE, enc_E_mat)\n",
    "# decoder = Decoder(target_vocab_size, EMBEDDING_DIM, ATTENTION_UNITS, \n",
    "#                   DECODER_UNITS, BATCH_SIZE)\n",
    "\n",
    "for epoch in range(EPOCHS):\n",
    "    start = datetime.now()\n",
    "\n",
    "    total_loss = 0\n",
    "\n",
    "    # This resets the hidden state of the LSTM for every epoch\n",
    "    init_state = [tf.zeros((BATCH_SIZE, ENCODER_UNITS)) for _ in range(4)]\n",
    "\n",
    "    for inpt, trgt in train.take(steps_per_epoch):\n",
    "        total_loss += train_step(inpt, trgt, init_state)\n",
    "\n",
    "    print('Epoch {} Loss {:.4f}'.format(epoch + 1,\n",
    "                                        total_loss / BATCH_SIZE))\n",
    "    print('Time taken {}\\n'.format(datetime.now() - start))"
   ]
  },
  {
   "cell_type": "code",
   "execution_count": 65,
   "metadata": {
    "id": "uEr2AFkJMOUB"
   },
   "outputs": [],
   "source": [
    "def evaluate(data):\n",
    "    loss = 0\n",
    "    results = []\n",
    "    bleu = 0\n",
    "\n",
    "    for i, (x, y) in enumerate(data):\n",
    "\n",
    "        result = '<start>'\n",
    "        next_word = True\n",
    "\n",
    "        init_state = [tf.zeros((1, ENCODER_UNITS)) for _ in range(4)]\n",
    "\n",
    "        # This feeds in the start token for the first initial state\n",
    "        dec_input = tf.expand_dims([target_tokenizer.word_index['<start>']], 0)\n",
    "        \n",
    "        # Get inputs\n",
    "        enc_output, dec_hidden_forward, dec_hidden_backward = encoder(x, None)\n",
    "\n",
    "        i = 1  # iterative count\n",
    "        while next_word: \n",
    "            # dec_hidden shape: (batch_size, decoder_units)\n",
    "            # dec_input shape: (batch_size, 1)\n",
    "            predictions, dec_hidden_forward, _ = decoder(dec_input, \n",
    "                                                         dec_hidden_forward, \n",
    "                                                         dec_hidden_backward, \n",
    "                                                         enc_output)\n",
    "            loss += loss_function(y[:, i], predictions)\n",
    "            \n",
    "            # max logit for tokenized word\n",
    "            word_idx = tf.argmax(predictions[0]).numpy()\n",
    "            word = target_tokenizer.index_word[word_idx]\n",
    "            result += word + ' '\n",
    "\n",
    "            dec_input = tf.expand_dims([word_idx], 0)\n",
    "\n",
    "            if word == '<end>':\n",
    "                next_word = False\n",
    "            \n",
    "            if i >= y.shape[1] - 1:\n",
    "                result += '<end>'\n",
    "                next_word = False\n",
    "            \n",
    "            i += 1\n",
    "\n",
    "        results.append(result)\n",
    "        bleu += sentence_bleu(f_holdout[i], result)\n",
    "\n",
    "    return results, loss.numpy() / len(f_holdout), bleu / len(f_holdout)"
   ]
  },
  {
   "cell_type": "code",
   "execution_count": 66,
   "metadata": {
    "colab": {
     "base_uri": "https://localhost:8080/"
    },
    "id": "vft0SHsNEBNk",
    "outputId": "32603cf5-33fd-42e6-dc64-98162501ce09"
   },
   "outputs": [
    {
     "name": "stderr",
     "output_type": "stream",
     "text": [
      "/usr/local/lib/python3.6/dist-packages/nltk/translate/bleu_score.py:490: UserWarning: \n",
      "Corpus/Sentence contains 0 counts of 2-gram overlaps.\n",
      "BLEU scores might be undesirable; use SmoothingFunction().\n",
      "  warnings.warn(_msg)\n"
     ]
    }
   ],
   "source": [
    "results, test_loss, bleu = evaluate(test)"
   ]
  },
  {
   "cell_type": "code",
   "execution_count": 67,
   "metadata": {
    "colab": {
     "base_uri": "https://localhost:8080/"
    },
    "id": "xyrwQzJ2aJXJ",
    "outputId": "a6039b75-c09e-4f73-9974-4487fe192630"
   },
   "outputs": [
    {
     "data": {
      "text/plain": [
       "87.63195180084746"
      ]
     },
     "execution_count": 67,
     "metadata": {
      "tags": []
     },
     "output_type": "execute_result"
    }
   ],
   "source": [
    "test_loss"
   ]
  },
  {
   "cell_type": "code",
   "execution_count": 68,
   "metadata": {
    "colab": {
     "base_uri": "https://localhost:8080/"
    },
    "id": "e7UPBTU-aZiY",
    "outputId": "78c9bdd0-42db-4e9d-a2dc-b465671f2506"
   },
   "outputs": [
    {
     "data": {
      "text/plain": [
       "0.7465787374799268"
      ]
     },
     "execution_count": 68,
     "metadata": {
      "tags": []
     },
     "output_type": "execute_result"
    }
   ],
   "source": [
    "bleu"
   ]
  },
  {
   "cell_type": "code",
   "execution_count": 74,
   "metadata": {
    "id": "_RXdV1DNZqAj"
   },
   "outputs": [],
   "source": [
    "def examine(index):\n",
    "    print(\"Informal: \", if_holdout[index])\n",
    "    print(\"Formal: \", f_holdout[index])\n",
    "    print(\"Predicted: \", results[index])"
   ]
  },
  {
   "cell_type": "code",
   "execution_count": 80,
   "metadata": {
    "colab": {
     "base_uri": "https://localhost:8080/"
    },
    "id": "aNS9wCEOaOmH",
    "outputId": "eef6c167-5cbb-4af2-ec12-1fd4fad88909"
   },
   "outputs": [
    {
     "name": "stdout",
     "output_type": "stream",
     "text": [
      "Informal:  <start> I have a few I picked up in a New & Used bookstore near me .  <end>\n",
      "Formal:  <start> I own a few that I found at a new and used bookstore near me .  <end>\n",
      "Predicted:  <start>i have time a at of copy for for for for at to at <end> \n"
     ]
    }
   ],
   "source": [
    "examine(1300)"
   ]
  },
  {
   "cell_type": "code",
   "execution_count": 62,
   "metadata": {
    "id": "CvOX0GHmq829"
   },
   "outputs": [],
   "source": []
  }
 ],
 "metadata": {
  "accelerator": "GPU",
  "colab": {
   "name": "Attention Model.ipynb",
   "provenance": [],
   "toc_visible": true
  },
  "kernelspec": {
   "display_name": "Python 3",
   "language": "python",
   "name": "python3"
  },
  "language_info": {
   "codemirror_mode": {
    "name": "ipython",
    "version": 3
   },
   "file_extension": ".py",
   "mimetype": "text/x-python",
   "name": "python",
   "nbconvert_exporter": "python",
   "pygments_lexer": "ipython3",
   "version": "3.7.6"
  }
 },
 "nbformat": 4,
 "nbformat_minor": 4
}
