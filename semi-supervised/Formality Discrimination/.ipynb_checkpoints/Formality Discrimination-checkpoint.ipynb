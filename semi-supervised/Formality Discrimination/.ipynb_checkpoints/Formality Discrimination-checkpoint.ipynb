{
 "cells": [
  {
   "cell_type": "markdown",
   "metadata": {},
   "source": [
    "# Round Trip Translation for Data Augmentation\n",
    "The idea for backtranslation is that a round trip translation will create a more formal sentence. After the data is translated it will be run through the formality classifier to determine how much it matches the target corpus. If it scores high formality score (say about 85% out of softmax) then it will be added as an additional translation. "
   ]
  },
  {
   "cell_type": "code",
   "execution_count": 17,
   "metadata": {},
   "outputs": [],
   "source": [
    "# !conda uninstall --yes googletrans"
   ]
  },
  {
   "cell_type": "code",
   "execution_count": 18,
   "metadata": {},
   "outputs": [],
   "source": [
    "# !conda install -c conda-forge --yes googletrans"
   ]
  },
  {
   "cell_type": "code",
   "execution_count": 1,
   "metadata": {},
   "outputs": [],
   "source": [
    "import re"
   ]
  },
  {
   "cell_type": "markdown",
   "metadata": {},
   "source": [
    "## Load Data and Translate"
   ]
  },
  {
   "cell_type": "code",
   "execution_count": 19,
   "metadata": {},
   "outputs": [],
   "source": [
    "BASE_PATH = '../../Data'  # on local is path to directory\n",
    "\n",
    "INFORMAL_PATH_TRAIN = '{}/Supervised Data/Entertainment_Music/S_Informal_EM_Train.txt'.format(BASE_PATH)\n",
    "INFORMAL_PATH_HOLDOUT = '{}/Supervised Data/Entertainment_Music/S_Informal_EM_ValTest.txt'.format(BASE_PATH)\n",
    "\n",
    "informal = open(INFORMAL_PATH_TRAIN).read()\n",
    "informal_holdout = open(INFORMAL_PATH_HOLDOUT).read()"
   ]
  },
  {
   "cell_type": "code",
   "execution_count": 20,
   "metadata": {},
   "outputs": [],
   "source": [
    "if_corpus = [seq for seq in informal.split('\\n')]\n",
    "\n",
    "if_holdout = [seq for seq in informal_holdout.split('\\n')]\n",
    "\n",
    "if_corpus.extend(if_holdout)"
   ]
  },
  {
   "cell_type": "markdown",
   "metadata": {},
   "source": [
    "Below is a workflow for getting through the google translation, however I kept running into a bug with API calls so I chose to break up the document into pieces and use google translate online."
   ]
  },
  {
   "cell_type": "markdown",
   "metadata": {},
   "source": [
    "```python\n",
    "from googletrans import Translator\n",
    "rt = []  # round trip translations\n",
    "\n",
    "for seq in if_corpus:\n",
    "    t = Translator()\n",
    "    french = t.translate(seq, dest='fr')\n",
    "    english = t.translate(french, dest='en')\n",
    "    rt.append(english)\n",
    "```"
   ]
  },
  {
   "cell_type": "markdown",
   "metadata": {},
   "source": [
    "## Split Data "
   ]
  },
  {
   "cell_type": "code",
   "execution_count": 16,
   "metadata": {},
   "outputs": [],
   "source": [
    "length =  len(if_corpus) // 2\n",
    "\n",
    "with open('first_half.txt', 'w') as f:\n",
    "    for seq in if_corpus[:length]:\n",
    "        f.write(seq + '\\n')\n",
    "\n",
    "with open('second_half.txt', 'w') as f:\n",
    "    for seq in if_corpus[length:]:\n",
    "        f.write(seq + '\\n')"
   ]
  },
  {
   "cell_type": "code",
   "execution_count": 28,
   "metadata": {},
   "outputs": [],
   "source": [
    "rt = []\n",
    "with open(BASE_PATH + '/Supervised Data/FD Data/raw/first_half.fr.en.txt') as f:\n",
    "    for seq in f:\n",
    "        rt.append(seq.strip('\\n'))\n",
    "\n",
    "with open(BASE_PATH + '/Supervised Data/FD Data/raw/second_half.fr.en.txt') as f:\n",
    "    for seq in f:\n",
    "        rt.append(seq.strip('\\n'))"
   ]
  },
  {
   "cell_type": "markdown",
   "metadata": {},
   "source": [
    "## "
   ]
  }
 ],
 "metadata": {
  "kernelspec": {
   "display_name": "Python 3",
   "language": "python",
   "name": "python3"
  },
  "language_info": {
   "codemirror_mode": {
    "name": "ipython",
    "version": 3
   },
   "file_extension": ".py",
   "mimetype": "text/x-python",
   "name": "python",
   "nbconvert_exporter": "python",
   "pygments_lexer": "ipython3",
   "version": "3.7.6"
  }
 },
 "nbformat": 4,
 "nbformat_minor": 4
}
