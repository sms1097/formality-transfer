{
 "cells": [
  {
   "cell_type": "markdown",
   "metadata": {},
   "source": [
    "# Results Analysis"
   ]
  },
  {
   "cell_type": "markdown",
   "metadata": {},
   "source": [
    "## Metric Choices\n",
    "- [Google-BLEU (GLEU)](https://web.science.mq.edu.au/~rdale/publications/papers/2007/gleu4ps2pdf.pdf): Alternative to BLEU that often aligns better with human judgements on MT tasks. GLEU measures precision and recall of all 1-4 grams and choses the minimum of the two. \n",
    "- [Character n-gram F-score (CHRF)](http://www.statmt.org/wmt15/pdf/WMT49.pdf): \n",
    "$$ (1 + \\beta^2) \\frac{CHRP \\times CHRR}{\\beta^2 CHRP + CHHRR} $$\n",
    "where $CHRP$ is the percentage of n-grams in the predicted sequence that are in the target sequence and $CHRR$ is the percentage of character n-grams in the predicted sequence that are also in the target sequence \n",
    "- [BiLingual Evaluation Understudy (BLEU)](https://www.aclweb.org/anthology/P02-1040.pdf):\n",
    "- Formality: The average predicted confidence each sequence is formal. Computed by neural network trained on separate labelled informal/formal corpus. Result is average softmax prediction for formal output. This model was trained to 83% accuracy "
   ]
  },
  {
   "cell_type": "code",
   "execution_count": 1,
   "metadata": {},
   "outputs": [],
   "source": [
    "import warnings\n",
    "warnings.filterwarnings(\"ignore\")  # nltk doesn't like 1gram bleu"
   ]
  },
  {
   "cell_type": "code",
   "execution_count": 2,
   "metadata": {},
   "outputs": [],
   "source": [
    "from nltk.translate.bleu_score import corpus_bleu, SmoothingFunction\n",
    "from nltk.translate.chrf_score import corpus_chrf\n",
    "from nltk.translate.gleu_score import corpus_gleu\n",
    "\n",
    "import pandas as pd\n",
    "import numpy as np\n",
    "import seaborn as sns\n",
    "\n",
    "from metrics.formality_classifier import FormalityClassifier\n",
    "from scipy.stats import ttest_rel as ttest\n",
    "from scipy.stats import sem"
   ]
  },
  {
   "cell_type": "code",
   "execution_count": 3,
   "metadata": {},
   "outputs": [],
   "source": [
    "formality_classifier = FormalityClassifier()"
   ]
  },
  {
   "cell_type": "code",
   "execution_count": 11,
   "metadata": {},
   "outputs": [],
   "source": [
    "def load_and_score(results_file_path, actual_file_path, num_groups=7, val=False):\n",
    "    def replace(seq):\n",
    "        if seq is not None:\n",
    "            return seq.replace('<start>', '').replace('<end>', '')\n",
    "        else:\n",
    "            return ' '\n",
    "    # load data\n",
    "    actual = open(actual_file_path).read()\n",
    "    results = open(results_file_path).read()\n",
    "\n",
    "    actual = [replace(seq) for seq in actual.split('\\n')]\n",
    "    results = [replace(seq) for seq in results.split('\\n')]\n",
    "\n",
    "    if val:\n",
    "        actual = actual[:2000]\n",
    "        results = results[:2000]\n",
    "\n",
    "    # split data into test groups\n",
    "    split_size = len(actual) // num_groups\n",
    "    actual_split = [actual[x:x+split_size] for x in range(0, len(actual), split_size)]\n",
    "    results_split = [results[x:x+split_size] for x in range(0, len(results), split_size)]\n",
    "    \n",
    "    s = SmoothingFunction().method5\n",
    "\n",
    "    # loop through \n",
    "    formality, bleu, bleu_1gram, chrf, gleu = [], [], [], [], []\n",
    "    for a, r in zip(actual_split, results_split):\n",
    "        formality.append(formality_classifier.classify(r))\n",
    "        bleu.append(corpus_bleu(a, r, smoothing_function=s))\n",
    "        chrf.append(corpus_chrf(a, r))\n",
    "        bleu_1gram.append(corpus_bleu(a, r, weights=(1,0,0,0)))\n",
    "        gleu.append(corpus_gleu(a, r))\n",
    "        \n",
    "\n",
    "    df = pd.DataFrame(list(zip(bleu, bleu_1gram, chrf, formality, gleu)),\n",
    "                      columns=['BLEU', 'BLEU (1-grams)', 'CHRF', 'FORMALITY', 'GLEU'])\n",
    "\n",
    "    output = 'BLEU: {:4f} (+/) {:4f} | CHRF: {:4f} (+/) {:4f} | FORMALITY: {:4f} (+/) {:4f}| BLEU 1-grams: {:4f} (+/) {:4f} | GLEU: {:4f} (+/) {:4f}'\n",
    "    print(output.format(np.mean(bleu), sem(bleu), \n",
    "                        np.mean(chrf), sem(chrf),\n",
    "                        np.mean(formality), sem(formality),\n",
    "                        np.mean(bleu_1gram), sem(bleu_1gram),\n",
    "                        np.mean(gleu), sem(gleu)))\n",
    "    return df * 100"
   ]
  },
  {
   "cell_type": "code",
   "execution_count": 12,
   "metadata": {},
   "outputs": [],
   "source": [
    "def sig_test(df, baseline_df, alpha=0.01):\n",
    "    for col in df.columns:\n",
    "        pvalue = ttest(df[col], baseline_df[col]).pvalue\n",
    "        if pvalue < alpha and df[col].mean() > baseline_df[col].mean():\n",
    "            print('{} is significant!'.format(col))"
   ]
  },
  {
   "cell_type": "code",
   "execution_count": 13,
   "metadata": {},
   "outputs": [],
   "source": [
    "BASE_PATH = 'Data/Results/'\n",
    "actual = 'Data/Supervised Data/Entertainment_Music/S_Formal_EM_ValTest.txt'"
   ]
  },
  {
   "cell_type": "markdown",
   "metadata": {},
   "source": [
    "## Results from GYAFC Paper"
   ]
  },
  {
   "cell_type": "code",
   "execution_count": 14,
   "metadata": {},
   "outputs": [],
   "source": [
    "gyafc_results = 'Data/GYAFC_Corpus/Entertainment_Music/model_outputs/formal.nmt_baseline'\n",
    "gyafc_actual = 'Data/GYAFC_Corpus/Entertainment_Music/test/formal.ref0'"
   ]
  },
  {
   "cell_type": "code",
   "execution_count": 15,
   "metadata": {},
   "outputs": [
    {
     "name": "stdout",
     "output_type": "stream",
     "text": [
      "BLEU: 0.108503 (+/) 0.001352 | CHRF: 0.518635 (+/) 0.021160 | FORMALITY: 0.661569 (+/) 0.016450| BLEU 1-grams: 0.345700 (+/) 0.010541 | GLEU: 0.005165 (+/) 0.000308\n"
     ]
    }
   ],
   "source": [
    "gyafc_df = load_and_score(gyafc_results, gyafc_actual)"
   ]
  },
  {
   "cell_type": "markdown",
   "metadata": {},
   "source": [
    "## Vanilla Encoder Decoder Custom\n",
    "The vanilla encoder decoder feeds the sequences into encoder to learn a latent representation. The decoder then iterates through the original sequence and uses the latent representation to predict a next word. This model was trained for 30 epochs on 25,0000 sequences. "
   ]
  },
  {
   "cell_type": "code",
   "execution_count": 16,
   "metadata": {},
   "outputs": [
    {
     "name": "stdout",
     "output_type": "stream",
     "text": [
      "BLEU: 0.122971 (+/) 0.000350 | CHRF: 0.040913 (+/) 0.001406 | FORMALITY: 0.980703 (+/) 0.000000| BLEU 1-grams: 0.458467 (+/) 0.002731 | GLEU: 0.017241 (+/) 0.000000\n"
     ]
    }
   ],
   "source": [
    "ved_df = load_and_score(BASE_PATH + 'vanilla_encoder_decoder_results_custom.txt', actual)"
   ]
  },
  {
   "cell_type": "code",
   "execution_count": 17,
   "metadata": {},
   "outputs": [
    {
     "name": "stdout",
     "output_type": "stream",
     "text": [
      "BLEU is significant!\n",
      "BLEU (1-grams) is significant!\n",
      "FORMALITY is significant!\n",
      "GLEU is significant!\n"
     ]
    }
   ],
   "source": [
    "sig_test(ved_df, gyafc_df)"
   ]
  },
  {
   "cell_type": "markdown",
   "metadata": {},
   "source": [
    "## Global Attention Model"
   ]
  },
  {
   "cell_type": "code",
   "execution_count": 18,
   "metadata": {},
   "outputs": [
    {
     "name": "stdout",
     "output_type": "stream",
     "text": [
      "BLEU: 0.101087 (+/) 0.000256 | CHRF: 0.167280 (+/) 0.002716 | FORMALITY: 0.623312 (+/) 0.006809| BLEU 1-grams: 0.287893 (+/) 0.001992 | GLEU: 0.006355 (+/) 0.000115\n"
     ]
    }
   ],
   "source": [
    "ga_df = load_and_score(BASE_PATH + 'global.txt', actual)"
   ]
  },
  {
   "cell_type": "code",
   "execution_count": 19,
   "metadata": {},
   "outputs": [
    {
     "name": "stdout",
     "output_type": "stream",
     "text": [
      "GLEU is significant!\n"
     ]
    }
   ],
   "source": [
    "sig_test(ga_df, gyafc_df)"
   ]
  },
  {
   "cell_type": "markdown",
   "metadata": {},
   "source": [
    "## Bahdanau Attention\n",
    "```\n",
    "Informal:  <start> pretty woman but i cant remember who sings it .  <end>\n",
    "Formal:  <start> The song is called Pretty Woman , but I cannot remember who sings it .  <end>\n",
    "Predicted:  <start> i believe she is a woman i can not remember who sings the song <end> \n",
    "```"
   ]
  },
  {
   "cell_type": "code",
   "execution_count": 20,
   "metadata": {},
   "outputs": [
    {
     "name": "stdout",
     "output_type": "stream",
     "text": [
      "BLEU: 0.094816 (+/) 0.000924 | CHRF: 0.267846 (+/) 0.004568 | FORMALITY: 0.696538 (+/) 0.004477| BLEU 1-grams: 0.239017 (+/) 0.007203 | GLEU: 0.004433 (+/) 0.000183\n"
     ]
    }
   ],
   "source": [
    "ba_df = load_and_score(BASE_PATH + 'Bahdanau_Attention_Results_Custom.txt', actual)"
   ]
  },
  {
   "cell_type": "code",
   "execution_count": 21,
   "metadata": {},
   "outputs": [],
   "source": [
    "sig_test(ba_df, gyafc_df)"
   ]
  },
  {
   "cell_type": "markdown",
   "metadata": {},
   "source": [
    "## ONMT Transformer\n",
    "ONMT transformer was trained on the first 2000 sequences of the test set, and the remaining sequences were used as validation."
   ]
  },
  {
   "cell_type": "code",
   "execution_count": 22,
   "metadata": {},
   "outputs": [
    {
     "name": "stdout",
     "output_type": "stream",
     "text": [
      "BLEU: 0.103840 (+/) 0.000721 | CHRF: 0.355626 (+/) 0.008902 | FORMALITY: 0.630302 (+/) 0.014405| BLEU 1-grams: 0.309349 (+/) 0.005623 | GLEU: 0.004960 (+/) 0.000071\n"
     ]
    }
   ],
   "source": [
    "onmt_T_df = load_and_score(BASE_PATH + 'onmt_transformer_output.txt', actual, val=True)"
   ]
  },
  {
   "cell_type": "code",
   "execution_count": 23,
   "metadata": {},
   "outputs": [
    {
     "name": "stdout",
     "output_type": "stream",
     "text": [
      "CHRF is significant!\n"
     ]
    }
   ],
   "source": [
    "sig_test(onmt_T_df, ved_df)"
   ]
  },
  {
   "cell_type": "markdown",
   "metadata": {},
   "source": [
    "## Back Translation Transformer and Formality Discrimination"
   ]
  },
  {
   "cell_type": "code",
   "execution_count": 33,
   "metadata": {},
   "outputs": [
    {
     "name": "stdout",
     "output_type": "stream",
     "text": [
      "BLEU: 0.107247 (+/) 0.000290 | CHRF: 0.097944 (+/) 0.001584 | FORMALITY: 0.773861 (+/) 0.003783| BLEU 1-grams: 0.335905 (+/) 0.002257 | GLEU: 0.006982 (+/) 0.000109\n"
     ]
    }
   ],
   "source": [
    "bt = load_and_score(BASE_PATH + 'back_translation.txt', actual, val=True)"
   ]
  },
  {
   "cell_type": "code",
   "execution_count": 37,
   "metadata": {},
   "outputs": [
    {
     "name": "stdout",
     "output_type": "stream",
     "text": [
      "FORMALITY is significant!\n",
      "GLEU is significant!\n"
     ]
    }
   ],
   "source": [
    "sig_test(bt, gyafc_df)"
   ]
  },
  {
   "cell_type": "markdown",
   "metadata": {},
   "source": [
    "## CRF POS Model\n",
    "The CRF POS was a sequence2sequence model trained using [parallel encodings](https://arxiv.org/pdf/1804.09849.pdfhttps://arxiv.org/pdf/1804.09849.pdf)"
   ]
  },
  {
   "cell_type": "code",
   "execution_count": 24,
   "metadata": {},
   "outputs": [
    {
     "name": "stdout",
     "output_type": "stream",
     "text": [
      "BLEU: 0.104796 (+/) 0.000659 | CHRF: 0.079112 (+/) 0.003467 | FORMALITY: 0.858416 (+/) 0.009662| BLEU 1-grams: 0.316804 (+/) 0.005138 | GLEU: 0.008301 (+/) 0.000083\n"
     ]
    }
   ],
   "source": [
    "crf_pos_df = load_and_score(BASE_PATH + 'crf_pos_seq2seq_predictions.txt', actual, val=True)"
   ]
  },
  {
   "cell_type": "code",
   "execution_count": 25,
   "metadata": {},
   "outputs": [
    {
     "name": "stdout",
     "output_type": "stream",
     "text": [
      "FORMALITY is significant!\n",
      "GLEU is significant!\n"
     ]
    }
   ],
   "source": [
    "sig_test(crf_pos_df, gyafc_df)"
   ]
  },
  {
   "cell_type": "markdown",
   "metadata": {},
   "source": [
    "## Transformer with Rules"
   ]
  },
  {
   "cell_type": "code",
   "execution_count": 26,
   "metadata": {},
   "outputs": [
    {
     "name": "stdout",
     "output_type": "stream",
     "text": [
      "BLEU: 0.105465 (+/) 0.000356 | CHRF: 0.131249 (+/) 0.003914 | FORMALITY: 0.793419 (+/) 0.010006| BLEU 1-grams: 0.322019 (+/) 0.002776 | GLEU: 0.006269 (+/) 0.000179\n"
     ]
    }
   ],
   "source": [
    "rule_trans = load_and_score(BASE_PATH + 'rule_based_transformer.txt', actual, val=True)"
   ]
  },
  {
   "cell_type": "code",
   "execution_count": 27,
   "metadata": {},
   "outputs": [
    {
     "name": "stdout",
     "output_type": "stream",
     "text": [
      "FORMALITY is significant!\n",
      "GLEU is significant!\n"
     ]
    }
   ],
   "source": [
    "sig_test(rule_trans, gyafc_df)"
   ]
  },
  {
   "cell_type": "markdown",
   "metadata": {},
   "source": [
    "## CRF Pos Concat with Global Attention"
   ]
  },
  {
   "cell_type": "code",
   "execution_count": 28,
   "metadata": {},
   "outputs": [
    {
     "name": "stdout",
     "output_type": "stream",
     "text": [
      "BLEU: 0.070546 (+/) 0.000259 | CHRF: 0.045057 (+/) 0.001797 | FORMALITY: 0.548160 (+/) 0.005427| BLEU 1-grams: 0.049853 (+/) 0.002016 | GLEU: 0.002443 (+/) 0.000101\n"
     ]
    }
   ],
   "source": [
    "pos_concat = load_and_score(BASE_PATH + 'CRF_POS_Concat.txt', actual)"
   ]
  },
  {
   "cell_type": "code",
   "execution_count": 29,
   "metadata": {},
   "outputs": [],
   "source": [
    "sig_test(pos_concat, gyafc_df)"
   ]
  },
  {
   "cell_type": "markdown",
   "metadata": {},
   "source": [
    "## Rule Concat with Global Attention"
   ]
  },
  {
   "cell_type": "code",
   "execution_count": 30,
   "metadata": {},
   "outputs": [
    {
     "name": "stdout",
     "output_type": "stream",
     "text": [
      "BLEU: 0.077060 (+/) 0.000377 | CHRF: 0.038487 (+/) 0.000996 | FORMALITY: 0.562577 (+/) 0.014815| BLEU 1-grams: 0.100621 (+/) 0.002937 | GLEU: 0.005235 (+/) 0.000179\n"
     ]
    }
   ],
   "source": [
    "rule_concat = load_and_score(BASE_PATH + 'Rule_Concat.txt', actual)"
   ]
  },
  {
   "cell_type": "code",
   "execution_count": 31,
   "metadata": {},
   "outputs": [],
   "source": [
    "sig_test(rule_concat, gyafc_df)"
   ]
  },
  {
   "cell_type": "markdown",
   "metadata": {},
   "source": [
    "## CRF POS Attention Average"
   ]
  },
  {
   "cell_type": "code",
   "execution_count": 41,
   "metadata": {},
   "outputs": [
    {
     "name": "stdout",
     "output_type": "stream",
     "text": [
      "BLEU: 0.070948 (+/) 0.000107 | CHRF: 0.042622 (+/) 0.001116 | FORMALITY: 0.563424 (+/) 0.004138| BLEU 1-grams: 0.052983 (+/) 0.000833 | GLEU: 0.002668 (+/) 0.000112\n"
     ]
    }
   ],
   "source": [
    "crf_pos_avg = load_and_score(BASE_PATH + 'CRF_POS_Attention_Avg.txt', actual)"
   ]
  },
  {
   "cell_type": "code",
   "execution_count": 45,
   "metadata": {},
   "outputs": [],
   "source": [
    "sig_test(crf_pos_avg, gyafc_df)"
   ]
  },
  {
   "cell_type": "markdown",
   "metadata": {},
   "source": [
    "## Plots"
   ]
  },
  {
   "cell_type": "code",
   "execution_count": 55,
   "metadata": {},
   "outputs": [],
   "source": [
    "def create_results_df(model_names, model_dfs):\n",
    "    results = []\n",
    "    for name, model in zip(model_names, models):\n",
    "        for index, row in model.iterrows():\n",
    "            results.append(['BLEU', name, row['BLEU']])\n",
    "            results.append(['BLEU (1-grams)', name, row['BLEU (1-grams)']]) \n",
    "            results.append(['FORMALITY', name, row['FORMALITY']])\n",
    "            results.append(['GLEU', name, row['GLEU']])\n",
    "            results.append(['CHRF', name, row['CHRF']])\n",
    "    \n",
    "    df = pd.DataFrame(results, columns=['metric', 'model', 'result'])\n",
    "    return df"
   ]
  },
  {
   "cell_type": "code",
   "execution_count": 56,
   "metadata": {},
   "outputs": [],
   "source": [
    "model_names = ['GYAFC', 'Encoder/Decoder', 'POS concat',\n",
    "               'Global Attention']\n",
    "models = [gyafc_df, ved_df, pos_concat, ga_df]\n",
    "df = create_results_df(model_names, models)"
   ]
  },
  {
   "cell_type": "code",
   "execution_count": 65,
   "metadata": {},
   "outputs": [
    {
     "data": {
      "text/plain": [
       "<seaborn.axisgrid.FacetGrid at 0x7fc4e9205750>"
      ]
     },
     "execution_count": 65,
     "metadata": {},
     "output_type": "execute_result"
    },
    {
     "data": {
      "image/png": "[encoded data removed]",
      "text/plain": [
       "<Figure size 1440x360 with 4 Axes>"
      ]
     },
     "metadata": {},
     "output_type": "display_data"
    }
   ],
   "source": [
    "sns.set_theme(style=\"whitegrid\")\n",
    "ax = sns.catplot(x=\"result\", y=\"model\", col=\"metric\", \n",
    "                data=df[df['metric'] != 'GLEU'], kind=\"bar\", col_wrap=4)\n",
    "(ax.set_axis_labels(\"\", \"\")\n",
    " .set_titles(\"{col_name}\"))"
   ]
  },
  {
   "cell_type": "code",
   "execution_count": null,
   "metadata": {},
   "outputs": [],
   "source": []
  }
 ],
 "metadata": {
  "kernelspec": {
   "display_name": "Python 3",
   "language": "python",
   "name": "python3"
  },
  "language_info": {
   "codemirror_mode": {
    "name": "ipython",
    "version": 3
   },
   "file_extension": ".py",
   "mimetype": "text/x-python",
   "name": "python",
   "nbconvert_exporter": "python",
   "pygments_lexer": "ipython3",
   "version": "3.7.6"
  }
 },
 "nbformat": 4,
 "nbformat_minor": 4
}
