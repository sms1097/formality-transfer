{
 "cells": [
  {
   "cell_type": "markdown",
   "metadata": {},
   "source": [
    "# Baseline Models "
   ]
  },
  {
   "cell_type": "markdown",
   "metadata": {},
   "source": [
    "This method only works for sentiment transfer. This is because the attribute markers in semantic transfer are less nuanced than those needed for formality transfer. The attribute markers used here will not learn words that are more formal and cannot be generalized as easily. "
   ]
  },
  {
   "cell_type": "markdown",
   "metadata": {},
   "source": [
    "These are the model proposed to compare against DeleteOnly and DeleteAndRetrieve"
   ]
  },
  {
   "cell_type": "markdown",
   "metadata": {},
   "source": [
    "## Here we can see that this will not work"
   ]
  },
  {
   "cell_type": "code",
   "execution_count": 1,
   "metadata": {},
   "outputs": [],
   "source": [
    "import numpy as np\n",
    "import pandas as pd\n",
    "import seaborn as sns\n",
    "from nltk import ngrams\n",
    "\n",
    "import os\n",
    "import re"
   ]
  },
  {
   "cell_type": "markdown",
   "metadata": {},
   "source": [
    "## Load Data"
   ]
  },
  {
   "cell_type": "code",
   "execution_count": 2,
   "metadata": {},
   "outputs": [],
   "source": [
    "formal = open('../../Data/Unsupervised Data/Entertainment_Music/U_Formal_EM_Test.txt').read()\n",
    "informal = open('../../Data/Unsupervised Data/Entertainment_Music/U_Informal_EM_Val.txt').read()\n",
    "\n",
    "# formal_holdout = open('../../Data/Unsupervised Data/Entertainment_Music/U_Formal_EM_ValTest.txt').read()\n",
    "# informal_holdout = open('../../Data/Unsupervised Data/Entertainment_Music/U_Informal_EM_ValTest.txt').read()"
   ]
  },
  {
   "cell_type": "code",
   "execution_count": 3,
   "metadata": {},
   "outputs": [],
   "source": [
    "def process_sequence(seq):\n",
    "    \"\"\"This inserts a space in between the last word and a period\"\"\"\n",
    "    s = re.sub('([.,!?()])', r' \\1 ', seq)\n",
    "    s = re.sub('\\s{2,}', ' ', s)\n",
    "    return s\n",
    "\n",
    "f_corpus = [process_sequence(seq) for seq in formal.split('\\n')]\n",
    "if_corpus = [process_sequence(seq) for seq in informal.split('\\n')]"
   ]
  },
  {
   "cell_type": "code",
   "execution_count": 4,
   "metadata": {},
   "outputs": [
    {
     "name": "stdout",
     "output_type": "stream",
     "text": [
      "1083 formal sequences and 2878 informal sequences for evaluation.\n"
     ]
    }
   ],
   "source": [
    "print(\"{} formal sequences and {} informal sequences for evaluation.\".format(len(f_corpus), \n",
    "                                                                             len(if_corpus)))"
   ]
  },
  {
   "cell_type": "markdown",
   "metadata": {},
   "source": [
    "## Static Variables"
   ]
  },
  {
   "cell_type": "markdown",
   "metadata": {},
   "source": [
    "This is an incredibly trivial approach to implementing unsupervised style transfer. The process is to identify a sequence $x^{tgt}$ that is similar in content to $x^{src}$ and return that sequence."
   ]
  },
  {
   "cell_type": "markdown",
   "metadata": {},
   "source": [
    "We define an attribute marker $u$ if $s(u,v) \\geq \\gamma$, where $\\gamma$ is a specified tolerance and \n",
    "$$ s(u,v) = \\frac{\\text{count}(u, D_v) + \\lambda}{(\\sum_{v^\\prime \\in V, v^\\prime \\neq v} \\text{count}(u, D_{v^\\prime })) + \\lambda} $$\n",
    "where $D_v$ "
   ]
  },
  {
   "cell_type": "code",
   "execution_count": 20,
   "metadata": {},
   "outputs": [],
   "source": [
    "def get_ngrams(corpus, n):\n",
    "    \"\"\"\n",
    "    Gets all n grams less than or equal to n\n",
    "    \"\"\"\n",
    "    return {' '.join(gram):0 for seq in corpus for l in range(2,n) \n",
    "        for gram in ngrams(seq.split(), l)\n",
    "    }\n",
    "\n",
    "def get_ngram_count(corpus, n):\n",
    "    \"\"\"Get all ngrams with counts\"\"\"\n",
    "    # get ngrams\n",
    "    n_grams = get_ngrams(corpus, n)\n",
    "\n",
    "    # count!\n",
    "    for seq in corpus:\n",
    "        for gram in n_grams:\n",
    "            if gram in seq:\n",
    "                n_grams[gram] += 1\n",
    "\n",
    "    return n_grams "
   ]
  },
  {
   "cell_type": "code",
   "execution_count": 22,
   "metadata": {},
   "outputs": [],
   "source": [
    "if_count = get_ngram_count(if_corpus, 5)\n",
    "f_count = get_ngram_count(f_corpus, 5)"
   ]
  },
  {
   "cell_type": "code",
   "execution_count": 24,
   "metadata": {},
   "outputs": [
    {
     "data": {
      "text/plain": [
       "'e .'"
      ]
     },
     "execution_count": 24,
     "metadata": {},
     "output_type": "execute_result"
    }
   ],
   "source": [
    "max(f_count, key=f_count.get)"
   ]
  },
  {
   "cell_type": "code",
   "execution_count": 25,
   "metadata": {},
   "outputs": [
    {
     "data": {
      "text/plain": [
       "178"
      ]
     },
     "execution_count": 25,
     "metadata": {},
     "output_type": "execute_result"
    }
   ],
   "source": [
    "f_count['e .']"
   ]
  },
  {
   "cell_type": "markdown",
   "metadata": {},
   "source": [
    "Clearly this method is not worth pursuing for formality transfer, but does imply the rule-assisted network has great potential!"
   ]
  }
 ],
 "metadata": {
  "kernelspec": {
   "display_name": "Python 3",
   "language": "python",
   "name": "python3"
  },
  "language_info": {
   "codemirror_mode": {
    "name": "ipython",
    "version": 3
   },
   "file_extension": ".py",
   "mimetype": "text/x-python",
   "name": "python",
   "nbconvert_exporter": "python",
   "pygments_lexer": "ipython3",
   "version": "3.6.9"
  }
 },
 "nbformat": 4,
 "nbformat_minor": 4
}
