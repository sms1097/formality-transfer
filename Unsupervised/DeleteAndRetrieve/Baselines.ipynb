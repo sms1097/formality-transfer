{
 "cells": [
  {
   "cell_type": "markdown",
   "metadata": {},
   "source": [
    "# Baseline Models "
   ]
  },
  {
   "cell_type": "markdown",
   "metadata": {},
   "source": [
    "This method only works for sentiment transfer. This is because the attribute markers in semantic transfer are less nuanced than those needed for formality transfer. The attribute markers used here will not learn words that are more formal and cannot be generalized as easily. "
   ]
  },
  {
   "cell_type": "markdown",
   "metadata": {},
   "source": [
    "These are the model proposed to compare against DeleteOnly and DeleteAndRetrieve"
   ]
  },
  {
   "cell_type": "code",
   "execution_count": 39,
   "metadata": {},
   "outputs": [],
   "source": [
    "import numpy as np\n",
    "import pandas as pd\n",
    "import seaborn as sns\n",
    "from nltk import ngrams\n",
    "\n",
    "import os\n",
    "import re"
   ]
  },
  {
   "cell_type": "markdown",
   "metadata": {},
   "source": [
    "## Load Data"
   ]
  },
  {
   "cell_type": "code",
   "execution_count": 2,
   "metadata": {},
   "outputs": [],
   "source": [
    "formal = open('../../Data/Unsupervised Data/Entertainment_Music/U_Formal_EM_Test.txt').read()\n",
    "informal = open('../../Data/Unsupervised Data/Entertainment_Music/U_Informal_EM_Val.txt').read()\n",
    "\n",
    "# formal_holdout = open('../../Data/Unsupervised Data/Entertainment_Music/U_Formal_EM_ValTest.txt').read()\n",
    "# informal_holdout = open('../../Data/Unsupervised Data/Entertainment_Music/U_Informal_EM_ValTest.txt').read()"
   ]
  },
  {
   "cell_type": "code",
   "execution_count": 3,
   "metadata": {},
   "outputs": [],
   "source": [
    "def process_sequence(seq):\n",
    "    \"\"\"This inserts a space in between the last word and a period\"\"\"\n",
    "    s = re.sub('([.,!?()])', r' \\1 ', seq)\n",
    "    s = re.sub('\\s{2,}', ' ', s)\n",
    "    return s\n",
    "\n",
    "f_corpus = [process_sequence(seq) for seq in formal.split('\\n')]\n",
    "if_corpus = [process_sequence(seq) for seq in informal.split('\\n')]"
   ]
  },
  {
   "cell_type": "code",
   "execution_count": 11,
   "metadata": {},
   "outputs": [
    {
     "name": "stdout",
     "output_type": "stream",
     "text": [
      "1083 formal sequences and 2878 informal sequences for evaluation.\n"
     ]
    }
   ],
   "source": [
    "print(\"{} formal sequences and {} informal sequences for evaluation.\".format(len(f_corpus), \n",
    "                                                                             len(if_corpus)))"
   ]
  },
  {
   "cell_type": "markdown",
   "metadata": {},
   "source": [
    "## Retrieve Only"
   ]
  },
  {
   "cell_type": "markdown",
   "metadata": {},
   "source": [
    "This is an incredibly trivial approach to implementing unsupervised style transfer. The process is to identify a sequence $x^{tgt}$ that is similar in content to $x^{src}$ and return that sequence."
   ]
  },
  {
   "cell_type": "markdown",
   "metadata": {},
   "source": [
    "We define an attribute marker $u$ if $s(u,v) \\geq \\gamma$, where $\\gamma$ is a specified tolerance and \n",
    "$$ s(u,v) = \\frac{\\text{count}(u, D_v) + \\lambda}{(\\sum_{v^\\prime \\in V, v^\\prime \\neq v} \\text{count}(u, D_{v^\\prime })) + \\lambda} $$\n",
    "where $D_v$ "
   ]
  },
  {
   "cell_type": "code",
   "execution_count": 24,
   "metadata": {},
   "outputs": [
    {
     "name": "stdout",
     "output_type": "stream",
     "text": [
      "('Any', 'movie', 'that')\n",
      "('movie', 'that', 'has')\n",
      "('that', 'has', 'vampires')\n",
      "('has', 'vampires', 'I')\n",
      "('vampires', 'I', 'like')\n",
      "('I', 'like', '!')\n"
     ]
    }
   ],
   "source": [
    "for gram in ngrams(if_corpus[0].split(), 3):\n",
    "    print(gram)"
   ]
  },
  {
   "cell_type": "code",
   "execution_count": 35,
   "metadata": {},
   "outputs": [],
   "source": [
    "def get_ngrams(input_corpus, output_corpus, n):\n",
    "    \"\"\"\n",
    "    Gets all n grams less than or equal to n\n",
    "    \"\"\"\n",
    "    grams = lambda x: [gram for seq in x for l in range(1,n) for gram in ngrams(seq.split(), l)]\n",
    "    return grams(input_corpus), grams(output_corpus)\n",
    "\n",
    "def salience(in_ngrams, trgt_ngrams, gamma=0.1):\n",
    "    \"\"\"\n",
    "    Get salience of ngrams\n",
    "    \"\"\"\n",
    "    \n",
    "    \n",
    "    \n",
    "    \n"
   ]
  },
  {
   "cell_type": "code",
   "execution_count": 36,
   "metadata": {},
   "outputs": [],
   "source": [
    "x, y = get_ngrams(if_corpus, f_corpus, 3)"
   ]
  },
  {
   "cell_type": "code",
   "execution_count": 37,
   "metadata": {},
   "outputs": [],
   "source": [
    "from collections import Counter"
   ]
  },
  {
   "cell_type": "markdown",
   "metadata": {},
   "source": [
    "## Template Based"
   ]
  },
  {
   "cell_type": "markdown",
   "metadata": {},
   "source": [
    "This method is slightly less trivial than the other. Here we proceed by retrieving a target sentence y "
   ]
  },
  {
   "cell_type": "code",
   "execution_count": null,
   "metadata": {},
   "outputs": [],
   "source": []
  }
 ],
 "metadata": {
  "kernelspec": {
   "display_name": "Python 3",
   "language": "python",
   "name": "python3"
  },
  "language_info": {
   "codemirror_mode": {
    "name": "ipython",
    "version": 3
   },
   "file_extension": ".py",
   "mimetype": "text/x-python",
   "name": "python",
   "nbconvert_exporter": "python",
   "pygments_lexer": "ipython3",
   "version": "3.7.6"
  }
 },
 "nbformat": 4,
 "nbformat_minor": 4
}
