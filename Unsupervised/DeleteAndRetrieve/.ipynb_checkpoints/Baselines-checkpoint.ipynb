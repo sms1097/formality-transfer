{
 "cells": [
  {
   "cell_type": "markdown",
   "metadata": {},
   "source": [
    "# Baseline Models "
   ]
  },
  {
   "cell_type": "markdown",
   "metadata": {},
   "source": [
    "These are the model proposed to compare against DeleteOnly and DeleteAndRetrieve"
   ]
  },
  {
   "cell_type": "code",
   "execution_count": 7,
   "metadata": {},
   "outputs": [],
   "source": [
    "import numpy as np\n",
    "import seaborn as sns\n",
    "\n",
    "import os\n",
    "import re"
   ]
  },
  {
   "cell_type": "markdown",
   "metadata": {},
   "source": [
    "## Load Data"
   ]
  },
  {
   "cell_type": "code",
   "execution_count": 5,
   "metadata": {},
   "outputs": [],
   "source": [
    "formal = open('../../Data/Unsupervised Data/Entertainment_Music/U_Formal_EM_Train.txt').read()\n",
    "informal = open('../../Data/Unsupervised Data/Entertainment_Music/U_Informal_EM_Train.txt').read()\n",
    "\n",
    "# formal_holdout = open('../../Data/Unsupervised Data/Entertainment_Music/U_Formal_EM_ValTest.txt').read()\n",
    "# informal_holdout = open('../../Data/Unsupervised Data/Entertainment_Music/U_Informal_EM_ValTest.txt').read()"
   ]
  },
  {
   "cell_type": "code",
   "execution_count": 8,
   "metadata": {},
   "outputs": [],
   "source": [
    "def process_sequence(seq):\n",
    "    \"\"\"This inserts a space in between the last word and a period\"\"\"\n",
    "    s = re.sub('([.,!?()])', r' \\1 ', seq)\n",
    "    s = re.sub('\\s{2,}', ' ', s)\n",
    "    \n",
    "    return '<start> ' + s + ' <end>'\n",
    "\n",
    "f_corpus = [process_sequence(seq) for seq in formal.split('\\n')]\n",
    "if_corpus = [process_sequence(seq) for seq in informal.split('\\n')]"
   ]
  },
  {
   "cell_type": "code",
   "execution_count": 10,
   "metadata": {},
   "outputs": [
    {
     "name": "stdout",
     "output_type": "stream",
     "text": [
      "25000 formal sequences and 25000 informal sequences for training\n"
     ]
    }
   ],
   "source": [
    "print(\"{} formal sequences and {} informal sequences for training\".format(len(f_corpus), \n",
    "                                                                          len(if_corpus)))"
   ]
  },
  {
   "cell_type": "markdown",
   "metadata": {},
   "source": [
    "## Retrieve Only"
   ]
  },
  {
   "cell_type": "markdown",
   "metadata": {},
   "source": [
    "This is an incredibly trivial approach to implementing unsupervised style transfer. The process is to identify a sequence $x^{tgt}$ that is similar in content to $x^{src}$ and return that sequence."
   ]
  },
  {
   "cell_type": "markdown",
   "metadata": {},
   "source": [
    "I'm going to use <b>Jaccard Similarity</b>, which is the intersection over union. This seems like a simple approach that would help filter out style words and match on content. "
   ]
  },
  {
   "cell_type": "code",
   "execution_count": 16,
   "metadata": {},
   "outputs": [],
   "source": [
    "def jaccard_similarity(seq_a, seq_b):\n",
    "    a = set(seq_a)\n",
    "    b = set(seq_b)\n",
    "    c = a.intersection(b)\n",
    "    return float(len(c) / (len(a) + len(b) - len(c)))"
   ]
  },
  {
   "cell_type": "markdown",
   "metadata": {},
   "source": [
    "Now we can see how the method does on the corpus"
   ]
  },
  {
   "cell_type": "code",
   "execution_count": null,
   "metadata": {},
   "outputs": [],
   "source": [
    "for seq in if_corpus:\n",
    "    for seq in f_corpus:\n",
    "        "
   ]
  }
 ],
 "metadata": {
  "kernelspec": {
   "display_name": "Python 3",
   "language": "python",
   "name": "python3"
  },
  "language_info": {
   "codemirror_mode": {
    "name": "ipython",
    "version": 3
   },
   "file_extension": ".py",
   "mimetype": "text/x-python",
   "name": "python",
   "nbconvert_exporter": "python",
   "pygments_lexer": "ipython3",
   "version": "3.7.6"
  }
 },
 "nbformat": 4,
 "nbformat_minor": 4
}
