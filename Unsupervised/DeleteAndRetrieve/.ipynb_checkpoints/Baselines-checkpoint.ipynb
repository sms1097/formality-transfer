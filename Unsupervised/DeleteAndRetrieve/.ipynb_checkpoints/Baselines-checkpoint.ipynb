{
 "cells": [
  {
   "cell_type": "markdown",
   "metadata": {},
   "source": [
    "# Baseline Models "
   ]
  },
  {
   "cell_type": "markdown",
   "metadata": {},
   "source": [
    "This method only works for sentiment transfer. This is because the attribute markers in semantic transfer are less nuanced than those needed for formality transfer. The attribute markers used here will not learn words that are more formal and cannot be generalized as easily. "
   ]
  },
  {
   "cell_type": "markdown",
   "metadata": {},
   "source": [
    "These are the model proposed to compare against DeleteOnly and DeleteAndRetrieve"
   ]
  },
  {
   "cell_type": "code",
   "execution_count": 1,
   "metadata": {},
   "outputs": [],
   "source": [
    "import numpy as np\n",
    "import seaborn as sns\n",
    "\n",
    "import os\n",
    "import re"
   ]
  },
  {
   "cell_type": "markdown",
   "metadata": {},
   "source": [
    "## Load Data"
   ]
  },
  {
   "cell_type": "code",
   "execution_count": 2,
   "metadata": {},
   "outputs": [],
   "source": [
    "formal = open('../../Data/Unsupervised Data/Entertainment_Music/U_Formal_EM_Test.txt').read()\n",
    "informal = open('../../Data/Unsupervised Data/Entertainment_Music/U_Informal_EM_Val.txt').read()\n",
    "\n",
    "# formal_holdout = open('../../Data/Unsupervised Data/Entertainment_Music/U_Formal_EM_ValTest.txt').read()\n",
    "# informal_holdout = open('../../Data/Unsupervised Data/Entertainment_Music/U_Informal_EM_ValTest.txt').read()"
   ]
  },
  {
   "cell_type": "code",
   "execution_count": 3,
   "metadata": {},
   "outputs": [],
   "source": [
    "def process_sequence(seq):\n",
    "    \"\"\"This inserts a space in between the last word and a period\"\"\"\n",
    "    s = re.sub('([.,!?()])', r' \\1 ', seq)\n",
    "    s = re.sub('\\s{2,}', ' ', s)\n",
    "    return s\n",
    "\n",
    "f_corpus = [process_sequence(seq) for seq in formal.split('\\n')]\n",
    "if_corpus = [process_sequence(seq) for seq in informal.split('\\n')]"
   ]
  },
  {
   "cell_type": "code",
   "execution_count": 4,
   "metadata": {},
   "outputs": [
    {
     "name": "stdout",
     "output_type": "stream",
     "text": [
      "1083 formal sequences and 2878 informal sequences for evaluation.\n"
     ]
    }
   ],
   "source": [
    "print(\"{} formal sequences and {} informal sequences for evaluation.\".format(len(f_corpus), \n",
    "                                                                          len(if_corpus)))"
   ]
  },
  {
   "cell_type": "markdown",
   "metadata": {},
   "source": [
    "## Retrieve Only"
   ]
  },
  {
   "cell_type": "markdown",
   "metadata": {},
   "source": [
    "This is an incredibly trivial approach to implementing unsupervised style transfer. The process is to identify a sequence $x^{tgt}$ that is similar in content to $x^{src}$ and return that sequence."
   ]
  },
  {
   "cell_type": "markdown",
   "metadata": {},
   "source": [
    "I'm going to use <b>Jaccard Similarity</b>, which is the intersection over union. This seems like a simple approach that would help filter out style words and match on content. "
   ]
  },
  {
   "cell_type": "code",
   "execution_count": 6,
   "metadata": {},
   "outputs": [],
   "source": [
    "def jaccard_similarity(seq_a, seq_b):\n",
    "    a = set(seq_a.split(\" \"))\n",
    "    b = set(seq_b.split(\" \"))\n",
    "    c = a.intersection(b)\n",
    "    return float(len(c) / (len(a) + len(b) - len(c)))\n",
    "\n",
    "def compute_similarities(inf, f):\n",
    "    evaluations = {}\n",
    "    for seq_if in inf:\n",
    "        best = -1\n",
    "        for seq_f in f:\n",
    "            score = jaccard_similarity(seq_if, seq_f)\n",
    "            if score > best:\n",
    "                best = score\n",
    "                best_if = seq_if\n",
    "                best_f = seq_f\n",
    "        evaluations[best_if] = best_f\n",
    "    return evaluations\n",
    "\n",
    "def see_match(seq_a, target_dict):\n",
    "    \"\"\"See best content match of seq_a\"\"\"\n",
    "    seq_b = target_dict[seq_a]\n",
    "    sim = jaccard_similarity(seq_a, seq_b)\n",
    "    print(\"Informal Seq: {} \\nFormal Seq: {} \\nJaccard Similarity {}\".format(seq_a, \n",
    "                                                                             seq_b,\n",
    "                                                                             sim))"
   ]
  },
  {
   "cell_type": "code",
   "execution_count": null,
   "metadata": {},
   "outputs": [],
   "source": [
    "def retrieve_dict(input_corpus, target_corpus):\n",
    "    "
   ]
  },
  {
   "cell_type": "code",
   "execution_count": 7,
   "metadata": {},
   "outputs": [],
   "source": [
    "seq_target_dict = compute_similarities(if_corpus, f_corpus)"
   ]
  },
  {
   "cell_type": "code",
   "execution_count": 10,
   "metadata": {},
   "outputs": [
    {
     "name": "stdout",
     "output_type": "stream",
     "text": [
      "Informal Seq: I'm sure hes in the phone book < : ) < \n",
      "Formal Seq: They cannot see anything in the beginning .  \n",
      "Jaccard Similarity 0.11764705882352941\n"
     ]
    }
   ],
   "source": [
    "see_match(if_corpus[200], seq_target_dict)"
   ]
  },
  {
   "cell_type": "markdown",
   "metadata": {},
   "source": [
    "## Template Based"
   ]
  },
  {
   "cell_type": "markdown",
   "metadata": {},
   "source": [
    "This method is slightly less trivial than the other. Here we proceed by retrieving a target sentence y "
   ]
  },
  {
   "cell_type": "code",
   "execution_count": null,
   "metadata": {},
   "outputs": [],
   "source": []
  }
 ],
 "metadata": {
  "kernelspec": {
   "display_name": "Python 3",
   "language": "python",
   "name": "python3"
  },
  "language_info": {
   "codemirror_mode": {
    "name": "ipython",
    "version": 3
   },
   "file_extension": ".py",
   "mimetype": "text/x-python",
   "name": "python",
   "nbconvert_exporter": "python",
   "pygments_lexer": "ipython3",
   "version": "3.7.6"
  }
 },
 "nbformat": 4,
 "nbformat_minor": 4
}
